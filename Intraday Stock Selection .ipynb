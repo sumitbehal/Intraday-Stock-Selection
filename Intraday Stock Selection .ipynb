{
 "cells": [
  {
   "cell_type": "code",
   "execution_count": 19,
   "metadata": {},
   "outputs": [],
   "source": [
    "from nsetools import Nse\n",
    "nse = Nse()\n",
    "import yfinance as yf\n",
    "import datetime\n",
    "import plotly.graph_objects as go\n"
   ]
  },
  {
   "cell_type": "code",
   "execution_count": 20,
   "metadata": {},
   "outputs": [],
   "source": [
    "fo=nse.get_fno_lot_sizes()"
   ]
  },
  {
   "cell_type": "code",
   "execution_count": 21,
   "metadata": {},
   "outputs": [],
   "source": [
    "symbols = [] \n",
    "for key in fo.keys(): \n",
    "    symbols.append(key)"
   ]
  },
  {
   "cell_type": "code",
   "execution_count": 22,
   "metadata": {},
   "outputs": [],
   "source": [
    "symbols = [x+ '.NS' for x in symbols]"
   ]
  },
  {
   "cell_type": "code",
   "execution_count": 23,
   "metadata": {},
   "outputs": [
    {
     "name": "stdout",
     "output_type": "stream",
     "text": [
      "[*********************100%***********************]  142 of 142 completed\n",
      "\n",
      "4 Failed downloads:\n",
      "- BANKNIFTY.NS: No data found, symbol may be delisted\n",
      "- NIFTY.NS: No data found, symbol may be delisted\n",
      "- COFORGE.NS: No data found for this date range, symbol may be delisted\n",
      "- INDUSTOWER.NS: No data found for this date range, symbol may be delisted\n"
     ]
    }
   ],
   "source": [
    "start = datetime.datetime(2019,12,31)\n",
    "end = datetime.datetime(2020,12,31)\n",
    "df= yf.download(symbols, start=start, end=end)['Adj Close']"
   ]
  },
  {
   "cell_type": "code",
   "execution_count": 24,
   "metadata": {},
   "outputs": [],
   "source": [
    "df=df.pct_change()*100\n",
    "df=df[1:]\n",
    "df=df.abs()"
   ]
  },
  {
   "cell_type": "code",
   "execution_count": 25,
   "metadata": {},
   "outputs": [],
   "source": [
    "df.dropna(axis=1, how='all',inplace=True)"
   ]
  },
  {
   "cell_type": "code",
   "execution_count": 26,
   "metadata": {},
   "outputs": [],
   "source": [
    "df.loc['Mean'] = df.mean()"
   ]
  },
  {
   "cell_type": "code",
   "execution_count": 27,
   "metadata": {},
   "outputs": [],
   "source": [
    "df.sort_values(by='Mean', axis=1,inplace=True)"
   ]
  },
  {
   "cell_type": "code",
   "execution_count": 28,
   "metadata": {},
   "outputs": [],
   "source": [
    "df.loc['Volatility']=df[df > 5].count()"
   ]
  },
  {
   "cell_type": "code",
   "execution_count": 29,
   "metadata": {},
   "outputs": [
    {
     "data": {
      "text/html": [
       "<div>\n",
       "<style scoped>\n",
       "    .dataframe tbody tr th:only-of-type {\n",
       "        vertical-align: middle;\n",
       "    }\n",
       "\n",
       "    .dataframe tbody tr th {\n",
       "        vertical-align: top;\n",
       "    }\n",
       "\n",
       "    .dataframe thead th {\n",
       "        text-align: right;\n",
       "    }\n",
       "</style>\n",
       "<table border=\"1\" class=\"dataframe\">\n",
       "  <thead>\n",
       "    <tr style=\"text-align: right;\">\n",
       "      <th></th>\n",
       "      <th>DABUR.NS</th>\n",
       "      <th>COLPAL.NS</th>\n",
       "      <th>BRITANNIA.NS</th>\n",
       "      <th>HINDUNILVR.NS</th>\n",
       "      <th>PIDILITIND.NS</th>\n",
       "      <th>MARICO.NS</th>\n",
       "      <th>NESTLEIND.NS</th>\n",
       "      <th>MRF.NS</th>\n",
       "      <th>TORNTPOWER.NS</th>\n",
       "      <th>BAJAJ-AUTO.NS</th>\n",
       "      <th>...</th>\n",
       "      <th>JINDALSTEL.NS</th>\n",
       "      <th>M&amp;MFIN.NS</th>\n",
       "      <th>ZEEL.NS</th>\n",
       "      <th>CHOLAFIN.NS</th>\n",
       "      <th>RBLBANK.NS</th>\n",
       "      <th>SRTRANSFIN.NS</th>\n",
       "      <th>BANDHANBNK.NS</th>\n",
       "      <th>INDUSINDBK.NS</th>\n",
       "      <th>IBULHSGFIN.NS</th>\n",
       "      <th>IDEA.NS</th>\n",
       "    </tr>\n",
       "    <tr>\n",
       "      <th>Date</th>\n",
       "      <th></th>\n",
       "      <th></th>\n",
       "      <th></th>\n",
       "      <th></th>\n",
       "      <th></th>\n",
       "      <th></th>\n",
       "      <th></th>\n",
       "      <th></th>\n",
       "      <th></th>\n",
       "      <th></th>\n",
       "      <th></th>\n",
       "      <th></th>\n",
       "      <th></th>\n",
       "      <th></th>\n",
       "      <th></th>\n",
       "      <th></th>\n",
       "      <th></th>\n",
       "      <th></th>\n",
       "      <th></th>\n",
       "      <th></th>\n",
       "      <th></th>\n",
       "    </tr>\n",
       "  </thead>\n",
       "  <tbody>\n",
       "    <tr>\n",
       "      <th>2020-01-01 00:00:00</th>\n",
       "      <td>0.305410</td>\n",
       "      <td>0.123045</td>\n",
       "      <td>0.391371</td>\n",
       "      <td>0.704630</td>\n",
       "      <td>1.330297</td>\n",
       "      <td>1.214864</td>\n",
       "      <td>0.042608</td>\n",
       "      <td>0.570935</td>\n",
       "      <td>0.545770</td>\n",
       "      <td>1.095755</td>\n",
       "      <td>...</td>\n",
       "      <td>0.775196</td>\n",
       "      <td>3.054729</td>\n",
       "      <td>1.214933</td>\n",
       "      <td>0.867434</td>\n",
       "      <td>0.898940</td>\n",
       "      <td>2.446418</td>\n",
       "      <td>1.032956</td>\n",
       "      <td>1.701984</td>\n",
       "      <td>0.159636</td>\n",
       "      <td>0.813011</td>\n",
       "    </tr>\n",
       "    <tr>\n",
       "      <th>2020-01-02 00:00:00</th>\n",
       "      <td>0.032630</td>\n",
       "      <td>0.082131</td>\n",
       "      <td>0.452351</td>\n",
       "      <td>0.077460</td>\n",
       "      <td>0.448281</td>\n",
       "      <td>2.472890</td>\n",
       "      <td>0.336294</td>\n",
       "      <td>0.889695</td>\n",
       "      <td>0.963051</td>\n",
       "      <td>0.923788</td>\n",
       "      <td>...</td>\n",
       "      <td>4.116590</td>\n",
       "      <td>2.061392</td>\n",
       "      <td>0.329124</td>\n",
       "      <td>2.096757</td>\n",
       "      <td>6.207781</td>\n",
       "      <td>1.575564</td>\n",
       "      <td>0.795229</td>\n",
       "      <td>3.011517</td>\n",
       "      <td>3.981442</td>\n",
       "      <td>0.000000</td>\n",
       "    </tr>\n",
       "    <tr>\n",
       "      <th>2020-01-03 00:00:00</th>\n",
       "      <td>0.945754</td>\n",
       "      <td>0.006856</td>\n",
       "      <td>0.478151</td>\n",
       "      <td>0.546941</td>\n",
       "      <td>0.100073</td>\n",
       "      <td>0.771051</td>\n",
       "      <td>0.921299</td>\n",
       "      <td>1.068307</td>\n",
       "      <td>0.121406</td>\n",
       "      <td>1.568405</td>\n",
       "      <td>...</td>\n",
       "      <td>0.952377</td>\n",
       "      <td>1.149932</td>\n",
       "      <td>5.490324</td>\n",
       "      <td>1.989019</td>\n",
       "      <td>3.233657</td>\n",
       "      <td>0.047388</td>\n",
       "      <td>1.432865</td>\n",
       "      <td>0.009812</td>\n",
       "      <td>1.368604</td>\n",
       "      <td>0.000000</td>\n",
       "    </tr>\n",
       "    <tr>\n",
       "      <th>2020-01-06 00:00:00</th>\n",
       "      <td>1.668130</td>\n",
       "      <td>1.681508</td>\n",
       "      <td>0.551205</td>\n",
       "      <td>0.622587</td>\n",
       "      <td>0.711909</td>\n",
       "      <td>0.851768</td>\n",
       "      <td>1.212171</td>\n",
       "      <td>1.613929</td>\n",
       "      <td>2.373113</td>\n",
       "      <td>1.119775</td>\n",
       "      <td>...</td>\n",
       "      <td>2.738935</td>\n",
       "      <td>3.907534</td>\n",
       "      <td>4.457443</td>\n",
       "      <td>3.811241</td>\n",
       "      <td>5.802571</td>\n",
       "      <td>3.689982</td>\n",
       "      <td>1.590435</td>\n",
       "      <td>3.888541</td>\n",
       "      <td>7.645633</td>\n",
       "      <td>1.639343</td>\n",
       "    </tr>\n",
       "    <tr>\n",
       "      <th>2020-01-07 00:00:00</th>\n",
       "      <td>1.227672</td>\n",
       "      <td>1.037995</td>\n",
       "      <td>0.481467</td>\n",
       "      <td>0.274080</td>\n",
       "      <td>0.864742</td>\n",
       "      <td>0.271283</td>\n",
       "      <td>0.873289</td>\n",
       "      <td>0.266827</td>\n",
       "      <td>2.004974</td>\n",
       "      <td>0.009876</td>\n",
       "      <td>...</td>\n",
       "      <td>0.269630</td>\n",
       "      <td>0.310414</td>\n",
       "      <td>2.390061</td>\n",
       "      <td>1.114917</td>\n",
       "      <td>2.122605</td>\n",
       "      <td>0.640055</td>\n",
       "      <td>0.953624</td>\n",
       "      <td>0.527426</td>\n",
       "      <td>1.248364</td>\n",
       "      <td>0.000000</td>\n",
       "    </tr>\n",
       "    <tr>\n",
       "      <th>...</th>\n",
       "      <td>...</td>\n",
       "      <td>...</td>\n",
       "      <td>...</td>\n",
       "      <td>...</td>\n",
       "      <td>...</td>\n",
       "      <td>...</td>\n",
       "      <td>...</td>\n",
       "      <td>...</td>\n",
       "      <td>...</td>\n",
       "      <td>...</td>\n",
       "      <td>...</td>\n",
       "      <td>...</td>\n",
       "      <td>...</td>\n",
       "      <td>...</td>\n",
       "      <td>...</td>\n",
       "      <td>...</td>\n",
       "      <td>...</td>\n",
       "      <td>...</td>\n",
       "      <td>...</td>\n",
       "      <td>...</td>\n",
       "      <td>...</td>\n",
       "    </tr>\n",
       "    <tr>\n",
       "      <th>2020-12-28 00:00:00</th>\n",
       "      <td>2.040618</td>\n",
       "      <td>0.927434</td>\n",
       "      <td>0.406272</td>\n",
       "      <td>0.555733</td>\n",
       "      <td>1.472414</td>\n",
       "      <td>1.370546</td>\n",
       "      <td>0.166969</td>\n",
       "      <td>0.692685</td>\n",
       "      <td>0.454906</td>\n",
       "      <td>1.183790</td>\n",
       "      <td>...</td>\n",
       "      <td>3.047249</td>\n",
       "      <td>2.507290</td>\n",
       "      <td>1.311547</td>\n",
       "      <td>2.657101</td>\n",
       "      <td>3.970955</td>\n",
       "      <td>1.951637</td>\n",
       "      <td>2.009293</td>\n",
       "      <td>1.659243</td>\n",
       "      <td>6.011724</td>\n",
       "      <td>2.970289</td>\n",
       "    </tr>\n",
       "    <tr>\n",
       "      <th>2020-12-29 00:00:00</th>\n",
       "      <td>0.742791</td>\n",
       "      <td>0.555769</td>\n",
       "      <td>0.284442</td>\n",
       "      <td>0.192551</td>\n",
       "      <td>0.190627</td>\n",
       "      <td>0.135206</td>\n",
       "      <td>1.799194</td>\n",
       "      <td>0.412380</td>\n",
       "      <td>0.968147</td>\n",
       "      <td>0.493458</td>\n",
       "      <td>...</td>\n",
       "      <td>2.900992</td>\n",
       "      <td>0.625714</td>\n",
       "      <td>0.908472</td>\n",
       "      <td>0.828268</td>\n",
       "      <td>1.615014</td>\n",
       "      <td>1.855227</td>\n",
       "      <td>1.735816</td>\n",
       "      <td>5.300192</td>\n",
       "      <td>0.414935</td>\n",
       "      <td>0.961533</td>\n",
       "    </tr>\n",
       "    <tr>\n",
       "      <th>2020-12-30 00:00:00</th>\n",
       "      <td>2.003965</td>\n",
       "      <td>0.279438</td>\n",
       "      <td>0.261602</td>\n",
       "      <td>0.935287</td>\n",
       "      <td>0.245157</td>\n",
       "      <td>0.957406</td>\n",
       "      <td>0.637912</td>\n",
       "      <td>1.648577</td>\n",
       "      <td>0.788395</td>\n",
       "      <td>0.483742</td>\n",
       "      <td>...</td>\n",
       "      <td>2.525065</td>\n",
       "      <td>0.257583</td>\n",
       "      <td>0.458400</td>\n",
       "      <td>0.456740</td>\n",
       "      <td>0.128867</td>\n",
       "      <td>0.401007</td>\n",
       "      <td>1.718298</td>\n",
       "      <td>1.517147</td>\n",
       "      <td>0.532405</td>\n",
       "      <td>0.970877</td>\n",
       "    </tr>\n",
       "    <tr>\n",
       "      <th>Mean</th>\n",
       "      <td>1.307100</td>\n",
       "      <td>1.339211</td>\n",
       "      <td>1.357706</td>\n",
       "      <td>1.373895</td>\n",
       "      <td>1.399855</td>\n",
       "      <td>1.414062</td>\n",
       "      <td>1.438805</td>\n",
       "      <td>1.459485</td>\n",
       "      <td>1.463233</td>\n",
       "      <td>1.472886</td>\n",
       "      <td>...</td>\n",
       "      <td>3.062192</td>\n",
       "      <td>3.095346</td>\n",
       "      <td>3.101755</td>\n",
       "      <td>3.127953</td>\n",
       "      <td>3.128021</td>\n",
       "      <td>3.296353</td>\n",
       "      <td>3.315063</td>\n",
       "      <td>3.383821</td>\n",
       "      <td>3.535436</td>\n",
       "      <td>4.589615</td>\n",
       "    </tr>\n",
       "    <tr>\n",
       "      <th>Volatility</th>\n",
       "      <td>6.000000</td>\n",
       "      <td>8.000000</td>\n",
       "      <td>12.000000</td>\n",
       "      <td>11.000000</td>\n",
       "      <td>10.000000</td>\n",
       "      <td>7.000000</td>\n",
       "      <td>8.000000</td>\n",
       "      <td>8.000000</td>\n",
       "      <td>9.000000</td>\n",
       "      <td>11.000000</td>\n",
       "      <td>...</td>\n",
       "      <td>45.000000</td>\n",
       "      <td>43.000000</td>\n",
       "      <td>46.000000</td>\n",
       "      <td>44.000000</td>\n",
       "      <td>43.000000</td>\n",
       "      <td>49.000000</td>\n",
       "      <td>48.000000</td>\n",
       "      <td>49.000000</td>\n",
       "      <td>53.000000</td>\n",
       "      <td>66.000000</td>\n",
       "    </tr>\n",
       "  </tbody>\n",
       "</table>\n",
       "<p>251 rows × 138 columns</p>\n",
       "</div>"
      ],
      "text/plain": [
       "                     DABUR.NS  COLPAL.NS  BRITANNIA.NS  HINDUNILVR.NS  \\\n",
       "Date                                                                    \n",
       "2020-01-01 00:00:00  0.305410   0.123045      0.391371       0.704630   \n",
       "2020-01-02 00:00:00  0.032630   0.082131      0.452351       0.077460   \n",
       "2020-01-03 00:00:00  0.945754   0.006856      0.478151       0.546941   \n",
       "2020-01-06 00:00:00  1.668130   1.681508      0.551205       0.622587   \n",
       "2020-01-07 00:00:00  1.227672   1.037995      0.481467       0.274080   \n",
       "...                       ...        ...           ...            ...   \n",
       "2020-12-28 00:00:00  2.040618   0.927434      0.406272       0.555733   \n",
       "2020-12-29 00:00:00  0.742791   0.555769      0.284442       0.192551   \n",
       "2020-12-30 00:00:00  2.003965   0.279438      0.261602       0.935287   \n",
       "Mean                 1.307100   1.339211      1.357706       1.373895   \n",
       "Volatility           6.000000   8.000000     12.000000      11.000000   \n",
       "\n",
       "                     PIDILITIND.NS  MARICO.NS  NESTLEIND.NS    MRF.NS  \\\n",
       "Date                                                                    \n",
       "2020-01-01 00:00:00       1.330297   1.214864      0.042608  0.570935   \n",
       "2020-01-02 00:00:00       0.448281   2.472890      0.336294  0.889695   \n",
       "2020-01-03 00:00:00       0.100073   0.771051      0.921299  1.068307   \n",
       "2020-01-06 00:00:00       0.711909   0.851768      1.212171  1.613929   \n",
       "2020-01-07 00:00:00       0.864742   0.271283      0.873289  0.266827   \n",
       "...                            ...        ...           ...       ...   \n",
       "2020-12-28 00:00:00       1.472414   1.370546      0.166969  0.692685   \n",
       "2020-12-29 00:00:00       0.190627   0.135206      1.799194  0.412380   \n",
       "2020-12-30 00:00:00       0.245157   0.957406      0.637912  1.648577   \n",
       "Mean                      1.399855   1.414062      1.438805  1.459485   \n",
       "Volatility               10.000000   7.000000      8.000000  8.000000   \n",
       "\n",
       "                     TORNTPOWER.NS  BAJAJ-AUTO.NS  ...  JINDALSTEL.NS  \\\n",
       "Date                                               ...                  \n",
       "2020-01-01 00:00:00       0.545770       1.095755  ...       0.775196   \n",
       "2020-01-02 00:00:00       0.963051       0.923788  ...       4.116590   \n",
       "2020-01-03 00:00:00       0.121406       1.568405  ...       0.952377   \n",
       "2020-01-06 00:00:00       2.373113       1.119775  ...       2.738935   \n",
       "2020-01-07 00:00:00       2.004974       0.009876  ...       0.269630   \n",
       "...                            ...            ...  ...            ...   \n",
       "2020-12-28 00:00:00       0.454906       1.183790  ...       3.047249   \n",
       "2020-12-29 00:00:00       0.968147       0.493458  ...       2.900992   \n",
       "2020-12-30 00:00:00       0.788395       0.483742  ...       2.525065   \n",
       "Mean                      1.463233       1.472886  ...       3.062192   \n",
       "Volatility                9.000000      11.000000  ...      45.000000   \n",
       "\n",
       "                     M&MFIN.NS    ZEEL.NS  CHOLAFIN.NS  RBLBANK.NS  \\\n",
       "Date                                                                 \n",
       "2020-01-01 00:00:00   3.054729   1.214933     0.867434    0.898940   \n",
       "2020-01-02 00:00:00   2.061392   0.329124     2.096757    6.207781   \n",
       "2020-01-03 00:00:00   1.149932   5.490324     1.989019    3.233657   \n",
       "2020-01-06 00:00:00   3.907534   4.457443     3.811241    5.802571   \n",
       "2020-01-07 00:00:00   0.310414   2.390061     1.114917    2.122605   \n",
       "...                        ...        ...          ...         ...   \n",
       "2020-12-28 00:00:00   2.507290   1.311547     2.657101    3.970955   \n",
       "2020-12-29 00:00:00   0.625714   0.908472     0.828268    1.615014   \n",
       "2020-12-30 00:00:00   0.257583   0.458400     0.456740    0.128867   \n",
       "Mean                  3.095346   3.101755     3.127953    3.128021   \n",
       "Volatility           43.000000  46.000000    44.000000   43.000000   \n",
       "\n",
       "                     SRTRANSFIN.NS  BANDHANBNK.NS  INDUSINDBK.NS  \\\n",
       "Date                                                               \n",
       "2020-01-01 00:00:00       2.446418       1.032956       1.701984   \n",
       "2020-01-02 00:00:00       1.575564       0.795229       3.011517   \n",
       "2020-01-03 00:00:00       0.047388       1.432865       0.009812   \n",
       "2020-01-06 00:00:00       3.689982       1.590435       3.888541   \n",
       "2020-01-07 00:00:00       0.640055       0.953624       0.527426   \n",
       "...                            ...            ...            ...   \n",
       "2020-12-28 00:00:00       1.951637       2.009293       1.659243   \n",
       "2020-12-29 00:00:00       1.855227       1.735816       5.300192   \n",
       "2020-12-30 00:00:00       0.401007       1.718298       1.517147   \n",
       "Mean                      3.296353       3.315063       3.383821   \n",
       "Volatility               49.000000      48.000000      49.000000   \n",
       "\n",
       "                     IBULHSGFIN.NS    IDEA.NS  \n",
       "Date                                           \n",
       "2020-01-01 00:00:00       0.159636   0.813011  \n",
       "2020-01-02 00:00:00       3.981442   0.000000  \n",
       "2020-01-03 00:00:00       1.368604   0.000000  \n",
       "2020-01-06 00:00:00       7.645633   1.639343  \n",
       "2020-01-07 00:00:00       1.248364   0.000000  \n",
       "...                            ...        ...  \n",
       "2020-12-28 00:00:00       6.011724   2.970289  \n",
       "2020-12-29 00:00:00       0.414935   0.961533  \n",
       "2020-12-30 00:00:00       0.532405   0.970877  \n",
       "Mean                      3.535436   4.589615  \n",
       "Volatility               53.000000  66.000000  \n",
       "\n",
       "[251 rows x 138 columns]"
      ]
     },
     "execution_count": 29,
     "metadata": {},
     "output_type": "execute_result"
    }
   ],
   "source": [
    "df"
   ]
  },
  {
   "cell_type": "code",
   "execution_count": 30,
   "metadata": {},
   "outputs": [],
   "source": [
    "stocks=df.columns.to_list()\n",
    "stocks_mean=df.loc['Mean'].to_list()\n",
    "stocks=[x[:-3] for x in stocks]"
   ]
  },
  {
   "cell_type": "code",
   "execution_count": 31,
   "metadata": {},
   "outputs": [
    {
     "data": {
      "application/vnd.plotly.v1+json": {
       "config": {
        "plotlyServerURL": "https://plot.ly"
       },
       "data": [
        {
         "name": "NNF10",
         "type": "bar",
         "x": [
          "DABUR",
          "COLPAL",
          "BRITANNIA",
          "HINDUNILVR",
          "PIDILITIND",
          "MARICO",
          "NESTLEIND",
          "MRF",
          "TORNTPOWER",
          "BAJAJ-AUTO",
          "DRREDDY",
          "TCS",
          "BERGEPAINT",
          "ASIANPAINT",
          "POWERGRID",
          "SIEMENS",
          "UBL",
          "IOC",
          "WIPRO",
          "ITC",
          "SBILIFE",
          "HDFCAMC",
          "ULTRACEMCO",
          "DIVISLAB",
          "SRF",
          "HAVELLS",
          "EXIDEIND",
          "PAGEIND",
          "CIPLA",
          "BATAINDIA",
          "GODREJCP",
          "LT",
          "INFY",
          "ACC",
          "LUPIN",
          "SUNPHARMA",
          "TORNTPHARM",
          "SHREECEM",
          "PETRONET",
          "LALPATHLAB",
          "CADILAHC",
          "VOLTAS",
          "HCLTECH",
          "MCDOWELL-N",
          "TITAN",
          "COALINDIA",
          "ADANIPORTS",
          "HDFCLIFE",
          "NTPC",
          "BIOCON",
          "AMBUJACEM",
          "ICICIGI",
          "HDFCBANK",
          "IGL",
          "TECHM",
          "RAMCOCEM",
          "MGL",
          "MARUTI",
          "TVSMOTOR",
          "AARTIIND",
          "AMARAJABAT",
          "TATACHEM",
          "CUMMINSIND",
          "TATACONSUM",
          "RELIANCE",
          "BHARTIARTL",
          "HEROMOTOCO",
          "BALKRISIND",
          "GRASIM",
          "EICHERMOT",
          "APOLLOHOSP",
          "CONCOR",
          "KOTAKBANK",
          "SUNTV",
          "MINDTREE",
          "JUBLFOOD",
          "HDFC",
          "RECLTD",
          "GMRINFRA",
          "BOSCHLTD",
          "M&M",
          "GAIL",
          "BPCL",
          "ICICIPRULI",
          "PFC",
          "HINDPETRO",
          "NATIONALUM",
          "SBIN",
          "JSWSTEEL",
          "TATASTEEL",
          "NAUKRI",
          "UPL",
          "ONGC",
          "MUTHOOTFIN",
          "PNB",
          "APOLLOTYRE",
          "GLENMARK",
          "BAJAJFINSV",
          "BEL",
          "BHARATFORG",
          "TATAPOWER",
          "MFSL",
          "NMDC",
          "ADANIENT",
          "INDIGO",
          "BANKBARODA",
          "ICICIBANK",
          "AUROPHARMA",
          "ESCORTS",
          "GODREJPROP",
          "VEDL",
          "IDFCFIRSTB",
          "CANBK",
          "MANAPPURAM",
          "PVR",
          "AXISBANK",
          "BHEL",
          "HINDALCO",
          "DLF",
          "FEDERALBNK",
          "LICHSGFIN",
          "PEL",
          "ASHOKLEY",
          "TATAMOTORS",
          "BAJFINANCE",
          "L&TFH",
          "SAIL",
          "MOTHERSUMI",
          "JINDALSTEL",
          "M&MFIN",
          "ZEEL",
          "CHOLAFIN",
          "RBLBANK",
          "SRTRANSFIN",
          "BANDHANBNK",
          "INDUSINDBK",
          "IBULHSGFIN",
          "IDEA"
         ],
         "y": [
          1.307100160899405,
          1.3392107479199902,
          1.357705859509104,
          1.3738950017018383,
          1.3998548982295098,
          1.414062429975496,
          1.438805493780055,
          1.4594848212335985,
          1.463233038943896,
          1.4728859867323003,
          1.4872336530175643,
          1.4873217420628295,
          1.5329042137742888,
          1.534268149423916,
          1.5455574674619073,
          1.5631470166021342,
          1.564256385199309,
          1.5956335794198135,
          1.6032465406352359,
          1.6174325834369274,
          1.6196702002291068,
          1.6237083751832124,
          1.6375478000159185,
          1.643485897939653,
          1.6609449924655038,
          1.6635258444096355,
          1.6687288699083533,
          1.6717107491182601,
          1.67354595234022,
          1.6757231375813786,
          1.6896373238841953,
          1.692098034122073,
          1.6965374932174822,
          1.7101365818039724,
          1.7159754798833817,
          1.7284869734419905,
          1.7300229483024954,
          1.7338231404769802,
          1.7507056332312048,
          1.7517922746142767,
          1.7531923108913463,
          1.756257585244747,
          1.7609880372359452,
          1.7652781054616633,
          1.7654374232063699,
          1.7704685834765008,
          1.7750392432773627,
          1.776308529868838,
          1.7778705353937578,
          1.7833553933706272,
          1.8082573361616687,
          1.8093218979765506,
          1.8176872467456504,
          1.8220943915929593,
          1.8239173221136125,
          1.8293812905550502,
          1.831700708462434,
          1.8480216471474675,
          1.8485996141439873,
          1.8764100353641082,
          1.8792912419113486,
          1.8890540526853459,
          1.8921929708020206,
          1.8933073673784457,
          1.898768652524096,
          1.9065985712939668,
          1.9234158599056708,
          1.9617761723196914,
          1.962294842878881,
          1.9922858782317863,
          1.9931298301169862,
          1.9944434725120541,
          2.0086532057809685,
          2.02735017619506,
          2.027413403491349,
          2.040446304526447,
          2.057455183191214,
          2.059549874869457,
          2.0679862930091226,
          2.0938027036289575,
          2.0959443299776526,
          2.1103295220920533,
          2.1359695823409615,
          2.1545238154994886,
          2.1692680567332214,
          2.174979869964027,
          2.1848855672471217,
          2.1855869144019175,
          2.1983182562770374,
          2.20437705552484,
          2.2086490738380036,
          2.2205531942765186,
          2.2211146971229416,
          2.2233378030211304,
          2.2512809230191673,
          2.265489182996446,
          2.268201053655821,
          2.2698484148657947,
          2.2978054965794272,
          2.2978449863951123,
          2.30240079015168,
          2.3244621190752155,
          2.3260926659518115,
          2.332316248490091,
          2.3451370170312758,
          2.3531205119873975,
          2.363016599308706,
          2.377854119529737,
          2.3821164852979946,
          2.403862354899965,
          2.4607219722311036,
          2.4763008626588636,
          2.4777418426483906,
          2.509064612323226,
          2.5770684339207612,
          2.5798518805470834,
          2.5915268525674287,
          2.5931455134508847,
          2.598129833726668,
          2.608840395387219,
          2.6323257659345796,
          2.6493384304050607,
          2.668387759863905,
          2.689356692111369,
          2.69377342095127,
          2.707096205763914,
          2.7350221591214283,
          2.8739180495932612,
          3.0621916491166483,
          3.0953460198577623,
          3.1017551836261434,
          3.127952976217985,
          3.128021434798096,
          3.2963534665613445,
          3.3150634129326217,
          3.3838213787216787,
          3.535436164047151,
          4.5896154039848716
         ]
        }
       ],
       "layout": {
        "height": 1200,
        "template": {
         "data": {
          "bar": [
           {
            "error_x": {
             "color": "#2a3f5f"
            },
            "error_y": {
             "color": "#2a3f5f"
            },
            "marker": {
             "line": {
              "color": "#E5ECF6",
              "width": 0.5
             }
            },
            "type": "bar"
           }
          ],
          "barpolar": [
           {
            "marker": {
             "line": {
              "color": "#E5ECF6",
              "width": 0.5
             }
            },
            "type": "barpolar"
           }
          ],
          "carpet": [
           {
            "aaxis": {
             "endlinecolor": "#2a3f5f",
             "gridcolor": "white",
             "linecolor": "white",
             "minorgridcolor": "white",
             "startlinecolor": "#2a3f5f"
            },
            "baxis": {
             "endlinecolor": "#2a3f5f",
             "gridcolor": "white",
             "linecolor": "white",
             "minorgridcolor": "white",
             "startlinecolor": "#2a3f5f"
            },
            "type": "carpet"
           }
          ],
          "choropleth": [
           {
            "colorbar": {
             "outlinewidth": 0,
             "ticks": ""
            },
            "type": "choropleth"
           }
          ],
          "contour": [
           {
            "colorbar": {
             "outlinewidth": 0,
             "ticks": ""
            },
            "colorscale": [
             [
              0,
              "#0d0887"
             ],
             [
              0.1111111111111111,
              "#46039f"
             ],
             [
              0.2222222222222222,
              "#7201a8"
             ],
             [
              0.3333333333333333,
              "#9c179e"
             ],
             [
              0.4444444444444444,
              "#bd3786"
             ],
             [
              0.5555555555555556,
              "#d8576b"
             ],
             [
              0.6666666666666666,
              "#ed7953"
             ],
             [
              0.7777777777777778,
              "#fb9f3a"
             ],
             [
              0.8888888888888888,
              "#fdca26"
             ],
             [
              1,
              "#f0f921"
             ]
            ],
            "type": "contour"
           }
          ],
          "contourcarpet": [
           {
            "colorbar": {
             "outlinewidth": 0,
             "ticks": ""
            },
            "type": "contourcarpet"
           }
          ],
          "heatmap": [
           {
            "colorbar": {
             "outlinewidth": 0,
             "ticks": ""
            },
            "colorscale": [
             [
              0,
              "#0d0887"
             ],
             [
              0.1111111111111111,
              "#46039f"
             ],
             [
              0.2222222222222222,
              "#7201a8"
             ],
             [
              0.3333333333333333,
              "#9c179e"
             ],
             [
              0.4444444444444444,
              "#bd3786"
             ],
             [
              0.5555555555555556,
              "#d8576b"
             ],
             [
              0.6666666666666666,
              "#ed7953"
             ],
             [
              0.7777777777777778,
              "#fb9f3a"
             ],
             [
              0.8888888888888888,
              "#fdca26"
             ],
             [
              1,
              "#f0f921"
             ]
            ],
            "type": "heatmap"
           }
          ],
          "heatmapgl": [
           {
            "colorbar": {
             "outlinewidth": 0,
             "ticks": ""
            },
            "colorscale": [
             [
              0,
              "#0d0887"
             ],
             [
              0.1111111111111111,
              "#46039f"
             ],
             [
              0.2222222222222222,
              "#7201a8"
             ],
             [
              0.3333333333333333,
              "#9c179e"
             ],
             [
              0.4444444444444444,
              "#bd3786"
             ],
             [
              0.5555555555555556,
              "#d8576b"
             ],
             [
              0.6666666666666666,
              "#ed7953"
             ],
             [
              0.7777777777777778,
              "#fb9f3a"
             ],
             [
              0.8888888888888888,
              "#fdca26"
             ],
             [
              1,
              "#f0f921"
             ]
            ],
            "type": "heatmapgl"
           }
          ],
          "histogram": [
           {
            "marker": {
             "colorbar": {
              "outlinewidth": 0,
              "ticks": ""
             }
            },
            "type": "histogram"
           }
          ],
          "histogram2d": [
           {
            "colorbar": {
             "outlinewidth": 0,
             "ticks": ""
            },
            "colorscale": [
             [
              0,
              "#0d0887"
             ],
             [
              0.1111111111111111,
              "#46039f"
             ],
             [
              0.2222222222222222,
              "#7201a8"
             ],
             [
              0.3333333333333333,
              "#9c179e"
             ],
             [
              0.4444444444444444,
              "#bd3786"
             ],
             [
              0.5555555555555556,
              "#d8576b"
             ],
             [
              0.6666666666666666,
              "#ed7953"
             ],
             [
              0.7777777777777778,
              "#fb9f3a"
             ],
             [
              0.8888888888888888,
              "#fdca26"
             ],
             [
              1,
              "#f0f921"
             ]
            ],
            "type": "histogram2d"
           }
          ],
          "histogram2dcontour": [
           {
            "colorbar": {
             "outlinewidth": 0,
             "ticks": ""
            },
            "colorscale": [
             [
              0,
              "#0d0887"
             ],
             [
              0.1111111111111111,
              "#46039f"
             ],
             [
              0.2222222222222222,
              "#7201a8"
             ],
             [
              0.3333333333333333,
              "#9c179e"
             ],
             [
              0.4444444444444444,
              "#bd3786"
             ],
             [
              0.5555555555555556,
              "#d8576b"
             ],
             [
              0.6666666666666666,
              "#ed7953"
             ],
             [
              0.7777777777777778,
              "#fb9f3a"
             ],
             [
              0.8888888888888888,
              "#fdca26"
             ],
             [
              1,
              "#f0f921"
             ]
            ],
            "type": "histogram2dcontour"
           }
          ],
          "mesh3d": [
           {
            "colorbar": {
             "outlinewidth": 0,
             "ticks": ""
            },
            "type": "mesh3d"
           }
          ],
          "parcoords": [
           {
            "line": {
             "colorbar": {
              "outlinewidth": 0,
              "ticks": ""
             }
            },
            "type": "parcoords"
           }
          ],
          "pie": [
           {
            "automargin": true,
            "type": "pie"
           }
          ],
          "scatter": [
           {
            "marker": {
             "colorbar": {
              "outlinewidth": 0,
              "ticks": ""
             }
            },
            "type": "scatter"
           }
          ],
          "scatter3d": [
           {
            "line": {
             "colorbar": {
              "outlinewidth": 0,
              "ticks": ""
             }
            },
            "marker": {
             "colorbar": {
              "outlinewidth": 0,
              "ticks": ""
             }
            },
            "type": "scatter3d"
           }
          ],
          "scattercarpet": [
           {
            "marker": {
             "colorbar": {
              "outlinewidth": 0,
              "ticks": ""
             }
            },
            "type": "scattercarpet"
           }
          ],
          "scattergeo": [
           {
            "marker": {
             "colorbar": {
              "outlinewidth": 0,
              "ticks": ""
             }
            },
            "type": "scattergeo"
           }
          ],
          "scattergl": [
           {
            "marker": {
             "colorbar": {
              "outlinewidth": 0,
              "ticks": ""
             }
            },
            "type": "scattergl"
           }
          ],
          "scattermapbox": [
           {
            "marker": {
             "colorbar": {
              "outlinewidth": 0,
              "ticks": ""
             }
            },
            "type": "scattermapbox"
           }
          ],
          "scatterpolar": [
           {
            "marker": {
             "colorbar": {
              "outlinewidth": 0,
              "ticks": ""
             }
            },
            "type": "scatterpolar"
           }
          ],
          "scatterpolargl": [
           {
            "marker": {
             "colorbar": {
              "outlinewidth": 0,
              "ticks": ""
             }
            },
            "type": "scatterpolargl"
           }
          ],
          "scatterternary": [
           {
            "marker": {
             "colorbar": {
              "outlinewidth": 0,
              "ticks": ""
             }
            },
            "type": "scatterternary"
           }
          ],
          "surface": [
           {
            "colorbar": {
             "outlinewidth": 0,
             "ticks": ""
            },
            "colorscale": [
             [
              0,
              "#0d0887"
             ],
             [
              0.1111111111111111,
              "#46039f"
             ],
             [
              0.2222222222222222,
              "#7201a8"
             ],
             [
              0.3333333333333333,
              "#9c179e"
             ],
             [
              0.4444444444444444,
              "#bd3786"
             ],
             [
              0.5555555555555556,
              "#d8576b"
             ],
             [
              0.6666666666666666,
              "#ed7953"
             ],
             [
              0.7777777777777778,
              "#fb9f3a"
             ],
             [
              0.8888888888888888,
              "#fdca26"
             ],
             [
              1,
              "#f0f921"
             ]
            ],
            "type": "surface"
           }
          ],
          "table": [
           {
            "cells": {
             "fill": {
              "color": "#EBF0F8"
             },
             "line": {
              "color": "white"
             }
            },
            "header": {
             "fill": {
              "color": "#C8D4E3"
             },
             "line": {
              "color": "white"
             }
            },
            "type": "table"
           }
          ]
         },
         "layout": {
          "annotationdefaults": {
           "arrowcolor": "#2a3f5f",
           "arrowhead": 0,
           "arrowwidth": 1
          },
          "coloraxis": {
           "colorbar": {
            "outlinewidth": 0,
            "ticks": ""
           }
          },
          "colorscale": {
           "diverging": [
            [
             0,
             "#8e0152"
            ],
            [
             0.1,
             "#c51b7d"
            ],
            [
             0.2,
             "#de77ae"
            ],
            [
             0.3,
             "#f1b6da"
            ],
            [
             0.4,
             "#fde0ef"
            ],
            [
             0.5,
             "#f7f7f7"
            ],
            [
             0.6,
             "#e6f5d0"
            ],
            [
             0.7,
             "#b8e186"
            ],
            [
             0.8,
             "#7fbc41"
            ],
            [
             0.9,
             "#4d9221"
            ],
            [
             1,
             "#276419"
            ]
           ],
           "sequential": [
            [
             0,
             "#0d0887"
            ],
            [
             0.1111111111111111,
             "#46039f"
            ],
            [
             0.2222222222222222,
             "#7201a8"
            ],
            [
             0.3333333333333333,
             "#9c179e"
            ],
            [
             0.4444444444444444,
             "#bd3786"
            ],
            [
             0.5555555555555556,
             "#d8576b"
            ],
            [
             0.6666666666666666,
             "#ed7953"
            ],
            [
             0.7777777777777778,
             "#fb9f3a"
            ],
            [
             0.8888888888888888,
             "#fdca26"
            ],
            [
             1,
             "#f0f921"
            ]
           ],
           "sequentialminus": [
            [
             0,
             "#0d0887"
            ],
            [
             0.1111111111111111,
             "#46039f"
            ],
            [
             0.2222222222222222,
             "#7201a8"
            ],
            [
             0.3333333333333333,
             "#9c179e"
            ],
            [
             0.4444444444444444,
             "#bd3786"
            ],
            [
             0.5555555555555556,
             "#d8576b"
            ],
            [
             0.6666666666666666,
             "#ed7953"
            ],
            [
             0.7777777777777778,
             "#fb9f3a"
            ],
            [
             0.8888888888888888,
             "#fdca26"
            ],
            [
             1,
             "#f0f921"
            ]
           ]
          },
          "colorway": [
           "#636efa",
           "#EF553B",
           "#00cc96",
           "#ab63fa",
           "#FFA15A",
           "#19d3f3",
           "#FF6692",
           "#B6E880",
           "#FF97FF",
           "#FECB52"
          ],
          "font": {
           "color": "#2a3f5f"
          },
          "geo": {
           "bgcolor": "white",
           "lakecolor": "white",
           "landcolor": "#E5ECF6",
           "showlakes": true,
           "showland": true,
           "subunitcolor": "white"
          },
          "hoverlabel": {
           "align": "left"
          },
          "hovermode": "closest",
          "mapbox": {
           "style": "light"
          },
          "paper_bgcolor": "white",
          "plot_bgcolor": "#E5ECF6",
          "polar": {
           "angularaxis": {
            "gridcolor": "white",
            "linecolor": "white",
            "ticks": ""
           },
           "bgcolor": "#E5ECF6",
           "radialaxis": {
            "gridcolor": "white",
            "linecolor": "white",
            "ticks": ""
           }
          },
          "scene": {
           "xaxis": {
            "backgroundcolor": "#E5ECF6",
            "gridcolor": "white",
            "gridwidth": 2,
            "linecolor": "white",
            "showbackground": true,
            "ticks": "",
            "zerolinecolor": "white"
           },
           "yaxis": {
            "backgroundcolor": "#E5ECF6",
            "gridcolor": "white",
            "gridwidth": 2,
            "linecolor": "white",
            "showbackground": true,
            "ticks": "",
            "zerolinecolor": "white"
           },
           "zaxis": {
            "backgroundcolor": "#E5ECF6",
            "gridcolor": "white",
            "gridwidth": 2,
            "linecolor": "white",
            "showbackground": true,
            "ticks": "",
            "zerolinecolor": "white"
           }
          },
          "shapedefaults": {
           "line": {
            "color": "#2a3f5f"
           }
          },
          "ternary": {
           "aaxis": {
            "gridcolor": "white",
            "linecolor": "white",
            "ticks": ""
           },
           "baxis": {
            "gridcolor": "white",
            "linecolor": "white",
            "ticks": ""
           },
           "bgcolor": "#E5ECF6",
           "caxis": {
            "gridcolor": "white",
            "linecolor": "white",
            "ticks": ""
           }
          },
          "title": {
           "x": 0.05
          },
          "xaxis": {
           "automargin": true,
           "gridcolor": "white",
           "linecolor": "white",
           "ticks": "",
           "title": {
            "standoff": 15
           },
           "zerolinecolor": "white",
           "zerolinewidth": 2
          },
          "yaxis": {
           "automargin": true,
           "gridcolor": "white",
           "linecolor": "white",
           "ticks": "",
           "title": {
            "standoff": 15
           },
           "zerolinecolor": "white",
           "zerolinewidth": 2
          }
         }
        },
        "title": {
         "text": "Stocks with Absoulte Average Change/Day in F&O Space"
        },
        "width": 2500,
        "xaxis": {
         "tickangle": -65,
         "title": {
          "text": "TICKER NAME"
         }
        },
        "yaxis": {
         "title": {
          "text": "Change in %"
         }
        }
       }
      },
      "text/html": [
       "<div>                            <div id=\"1188e6c9-d5a0-459a-95cc-be855fb811b9\" class=\"plotly-graph-div\" style=\"height:1200px; width:2500px;\"></div>            <script type=\"text/javascript\">                require([\"plotly\"], function(Plotly) {                    window.PLOTLYENV=window.PLOTLYENV || {};                                    if (document.getElementById(\"1188e6c9-d5a0-459a-95cc-be855fb811b9\")) {                    Plotly.newPlot(                        \"1188e6c9-d5a0-459a-95cc-be855fb811b9\",                        [{\"name\": \"NNF10\", \"type\": \"bar\", \"x\": [\"DABUR\", \"COLPAL\", \"BRITANNIA\", \"HINDUNILVR\", \"PIDILITIND\", \"MARICO\", \"NESTLEIND\", \"MRF\", \"TORNTPOWER\", \"BAJAJ-AUTO\", \"DRREDDY\", \"TCS\", \"BERGEPAINT\", \"ASIANPAINT\", \"POWERGRID\", \"SIEMENS\", \"UBL\", \"IOC\", \"WIPRO\", \"ITC\", \"SBILIFE\", \"HDFCAMC\", \"ULTRACEMCO\", \"DIVISLAB\", \"SRF\", \"HAVELLS\", \"EXIDEIND\", \"PAGEIND\", \"CIPLA\", \"BATAINDIA\", \"GODREJCP\", \"LT\", \"INFY\", \"ACC\", \"LUPIN\", \"SUNPHARMA\", \"TORNTPHARM\", \"SHREECEM\", \"PETRONET\", \"LALPATHLAB\", \"CADILAHC\", \"VOLTAS\", \"HCLTECH\", \"MCDOWELL-N\", \"TITAN\", \"COALINDIA\", \"ADANIPORTS\", \"HDFCLIFE\", \"NTPC\", \"BIOCON\", \"AMBUJACEM\", \"ICICIGI\", \"HDFCBANK\", \"IGL\", \"TECHM\", \"RAMCOCEM\", \"MGL\", \"MARUTI\", \"TVSMOTOR\", \"AARTIIND\", \"AMARAJABAT\", \"TATACHEM\", \"CUMMINSIND\", \"TATACONSUM\", \"RELIANCE\", \"BHARTIARTL\", \"HEROMOTOCO\", \"BALKRISIND\", \"GRASIM\", \"EICHERMOT\", \"APOLLOHOSP\", \"CONCOR\", \"KOTAKBANK\", \"SUNTV\", \"MINDTREE\", \"JUBLFOOD\", \"HDFC\", \"RECLTD\", \"GMRINFRA\", \"BOSCHLTD\", \"M&M\", \"GAIL\", \"BPCL\", \"ICICIPRULI\", \"PFC\", \"HINDPETRO\", \"NATIONALUM\", \"SBIN\", \"JSWSTEEL\", \"TATASTEEL\", \"NAUKRI\", \"UPL\", \"ONGC\", \"MUTHOOTFIN\", \"PNB\", \"APOLLOTYRE\", \"GLENMARK\", \"BAJAJFINSV\", \"BEL\", \"BHARATFORG\", \"TATAPOWER\", \"MFSL\", \"NMDC\", \"ADANIENT\", \"INDIGO\", \"BANKBARODA\", \"ICICIBANK\", \"AUROPHARMA\", \"ESCORTS\", \"GODREJPROP\", \"VEDL\", \"IDFCFIRSTB\", \"CANBK\", \"MANAPPURAM\", \"PVR\", \"AXISBANK\", \"BHEL\", \"HINDALCO\", \"DLF\", \"FEDERALBNK\", \"LICHSGFIN\", \"PEL\", \"ASHOKLEY\", \"TATAMOTORS\", \"BAJFINANCE\", \"L&TFH\", \"SAIL\", \"MOTHERSUMI\", \"JINDALSTEL\", \"M&MFIN\", \"ZEEL\", \"CHOLAFIN\", \"RBLBANK\", \"SRTRANSFIN\", \"BANDHANBNK\", \"INDUSINDBK\", \"IBULHSGFIN\", \"IDEA\"], \"y\": [1.307100160899405, 1.3392107479199902, 1.357705859509104, 1.3738950017018383, 1.3998548982295098, 1.414062429975496, 1.438805493780055, 1.4594848212335985, 1.463233038943896, 1.4728859867323003, 1.4872336530175643, 1.4873217420628295, 1.5329042137742888, 1.534268149423916, 1.5455574674619073, 1.5631470166021342, 1.564256385199309, 1.5956335794198135, 1.6032465406352359, 1.6174325834369274, 1.6196702002291068, 1.6237083751832124, 1.6375478000159185, 1.643485897939653, 1.6609449924655038, 1.6635258444096355, 1.6687288699083533, 1.6717107491182601, 1.67354595234022, 1.6757231375813786, 1.6896373238841953, 1.692098034122073, 1.6965374932174822, 1.7101365818039724, 1.7159754798833817, 1.7284869734419905, 1.7300229483024954, 1.7338231404769802, 1.7507056332312048, 1.7517922746142767, 1.7531923108913463, 1.756257585244747, 1.7609880372359452, 1.7652781054616633, 1.7654374232063699, 1.7704685834765008, 1.7750392432773627, 1.776308529868838, 1.7778705353937578, 1.7833553933706272, 1.8082573361616687, 1.8093218979765506, 1.8176872467456504, 1.8220943915929593, 1.8239173221136125, 1.8293812905550502, 1.831700708462434, 1.8480216471474675, 1.8485996141439873, 1.8764100353641082, 1.8792912419113486, 1.8890540526853459, 1.8921929708020206, 1.8933073673784457, 1.898768652524096, 1.9065985712939668, 1.9234158599056708, 1.9617761723196914, 1.962294842878881, 1.9922858782317863, 1.9931298301169862, 1.9944434725120541, 2.0086532057809685, 2.02735017619506, 2.027413403491349, 2.040446304526447, 2.057455183191214, 2.059549874869457, 2.0679862930091226, 2.0938027036289575, 2.0959443299776526, 2.1103295220920533, 2.1359695823409615, 2.1545238154994886, 2.1692680567332214, 2.174979869964027, 2.1848855672471217, 2.1855869144019175, 2.1983182562770374, 2.20437705552484, 2.2086490738380036, 2.2205531942765186, 2.2211146971229416, 2.2233378030211304, 2.2512809230191673, 2.265489182996446, 2.268201053655821, 2.2698484148657947, 2.2978054965794272, 2.2978449863951123, 2.30240079015168, 2.3244621190752155, 2.3260926659518115, 2.332316248490091, 2.3451370170312758, 2.3531205119873975, 2.363016599308706, 2.377854119529737, 2.3821164852979946, 2.403862354899965, 2.4607219722311036, 2.4763008626588636, 2.4777418426483906, 2.509064612323226, 2.5770684339207612, 2.5798518805470834, 2.5915268525674287, 2.5931455134508847, 2.598129833726668, 2.608840395387219, 2.6323257659345796, 2.6493384304050607, 2.668387759863905, 2.689356692111369, 2.69377342095127, 2.707096205763914, 2.7350221591214283, 2.8739180495932612, 3.0621916491166483, 3.0953460198577623, 3.1017551836261434, 3.127952976217985, 3.128021434798096, 3.2963534665613445, 3.3150634129326217, 3.3838213787216787, 3.535436164047151, 4.5896154039848716]}],                        {\"height\": 1200, \"template\": {\"data\": {\"bar\": [{\"error_x\": {\"color\": \"#2a3f5f\"}, \"error_y\": {\"color\": \"#2a3f5f\"}, \"marker\": {\"line\": {\"color\": \"#E5ECF6\", \"width\": 0.5}}, \"type\": \"bar\"}], \"barpolar\": [{\"marker\": {\"line\": {\"color\": \"#E5ECF6\", \"width\": 0.5}}, \"type\": \"barpolar\"}], \"carpet\": [{\"aaxis\": {\"endlinecolor\": \"#2a3f5f\", \"gridcolor\": \"white\", \"linecolor\": \"white\", \"minorgridcolor\": \"white\", \"startlinecolor\": \"#2a3f5f\"}, \"baxis\": {\"endlinecolor\": \"#2a3f5f\", \"gridcolor\": \"white\", \"linecolor\": \"white\", \"minorgridcolor\": \"white\", \"startlinecolor\": \"#2a3f5f\"}, \"type\": \"carpet\"}], \"choropleth\": [{\"colorbar\": {\"outlinewidth\": 0, \"ticks\": \"\"}, \"type\": \"choropleth\"}], \"contour\": [{\"colorbar\": {\"outlinewidth\": 0, \"ticks\": \"\"}, \"colorscale\": [[0.0, \"#0d0887\"], [0.1111111111111111, \"#46039f\"], [0.2222222222222222, \"#7201a8\"], [0.3333333333333333, \"#9c179e\"], [0.4444444444444444, \"#bd3786\"], [0.5555555555555556, \"#d8576b\"], [0.6666666666666666, \"#ed7953\"], [0.7777777777777778, \"#fb9f3a\"], [0.8888888888888888, \"#fdca26\"], [1.0, \"#f0f921\"]], \"type\": \"contour\"}], \"contourcarpet\": [{\"colorbar\": {\"outlinewidth\": 0, \"ticks\": \"\"}, \"type\": \"contourcarpet\"}], \"heatmap\": [{\"colorbar\": {\"outlinewidth\": 0, \"ticks\": \"\"}, \"colorscale\": [[0.0, \"#0d0887\"], [0.1111111111111111, \"#46039f\"], [0.2222222222222222, \"#7201a8\"], [0.3333333333333333, \"#9c179e\"], [0.4444444444444444, \"#bd3786\"], [0.5555555555555556, \"#d8576b\"], [0.6666666666666666, \"#ed7953\"], [0.7777777777777778, \"#fb9f3a\"], [0.8888888888888888, \"#fdca26\"], [1.0, \"#f0f921\"]], \"type\": \"heatmap\"}], \"heatmapgl\": [{\"colorbar\": {\"outlinewidth\": 0, \"ticks\": \"\"}, \"colorscale\": [[0.0, \"#0d0887\"], [0.1111111111111111, \"#46039f\"], [0.2222222222222222, \"#7201a8\"], [0.3333333333333333, \"#9c179e\"], [0.4444444444444444, \"#bd3786\"], [0.5555555555555556, \"#d8576b\"], [0.6666666666666666, \"#ed7953\"], [0.7777777777777778, \"#fb9f3a\"], [0.8888888888888888, \"#fdca26\"], [1.0, \"#f0f921\"]], \"type\": \"heatmapgl\"}], \"histogram\": [{\"marker\": {\"colorbar\": {\"outlinewidth\": 0, \"ticks\": \"\"}}, \"type\": \"histogram\"}], \"histogram2d\": [{\"colorbar\": {\"outlinewidth\": 0, \"ticks\": \"\"}, \"colorscale\": [[0.0, \"#0d0887\"], [0.1111111111111111, \"#46039f\"], [0.2222222222222222, \"#7201a8\"], [0.3333333333333333, \"#9c179e\"], [0.4444444444444444, \"#bd3786\"], [0.5555555555555556, \"#d8576b\"], [0.6666666666666666, \"#ed7953\"], [0.7777777777777778, \"#fb9f3a\"], [0.8888888888888888, \"#fdca26\"], [1.0, \"#f0f921\"]], \"type\": \"histogram2d\"}], \"histogram2dcontour\": [{\"colorbar\": {\"outlinewidth\": 0, \"ticks\": \"\"}, \"colorscale\": [[0.0, \"#0d0887\"], [0.1111111111111111, \"#46039f\"], [0.2222222222222222, \"#7201a8\"], [0.3333333333333333, \"#9c179e\"], [0.4444444444444444, \"#bd3786\"], [0.5555555555555556, \"#d8576b\"], [0.6666666666666666, \"#ed7953\"], [0.7777777777777778, \"#fb9f3a\"], [0.8888888888888888, \"#fdca26\"], [1.0, \"#f0f921\"]], \"type\": \"histogram2dcontour\"}], \"mesh3d\": [{\"colorbar\": {\"outlinewidth\": 0, \"ticks\": \"\"}, \"type\": \"mesh3d\"}], \"parcoords\": [{\"line\": {\"colorbar\": {\"outlinewidth\": 0, \"ticks\": \"\"}}, \"type\": \"parcoords\"}], \"pie\": [{\"automargin\": true, \"type\": \"pie\"}], \"scatter\": [{\"marker\": {\"colorbar\": {\"outlinewidth\": 0, \"ticks\": \"\"}}, \"type\": \"scatter\"}], \"scatter3d\": [{\"line\": {\"colorbar\": {\"outlinewidth\": 0, \"ticks\": \"\"}}, \"marker\": {\"colorbar\": {\"outlinewidth\": 0, \"ticks\": \"\"}}, \"type\": \"scatter3d\"}], \"scattercarpet\": [{\"marker\": {\"colorbar\": {\"outlinewidth\": 0, \"ticks\": \"\"}}, \"type\": \"scattercarpet\"}], \"scattergeo\": [{\"marker\": {\"colorbar\": {\"outlinewidth\": 0, \"ticks\": \"\"}}, \"type\": \"scattergeo\"}], \"scattergl\": [{\"marker\": {\"colorbar\": {\"outlinewidth\": 0, \"ticks\": \"\"}}, \"type\": \"scattergl\"}], \"scattermapbox\": [{\"marker\": {\"colorbar\": {\"outlinewidth\": 0, \"ticks\": \"\"}}, \"type\": \"scattermapbox\"}], \"scatterpolar\": [{\"marker\": {\"colorbar\": {\"outlinewidth\": 0, \"ticks\": \"\"}}, \"type\": \"scatterpolar\"}], \"scatterpolargl\": [{\"marker\": {\"colorbar\": {\"outlinewidth\": 0, \"ticks\": \"\"}}, \"type\": \"scatterpolargl\"}], \"scatterternary\": [{\"marker\": {\"colorbar\": {\"outlinewidth\": 0, \"ticks\": \"\"}}, \"type\": \"scatterternary\"}], \"surface\": [{\"colorbar\": {\"outlinewidth\": 0, \"ticks\": \"\"}, \"colorscale\": [[0.0, \"#0d0887\"], [0.1111111111111111, \"#46039f\"], [0.2222222222222222, \"#7201a8\"], [0.3333333333333333, \"#9c179e\"], [0.4444444444444444, \"#bd3786\"], [0.5555555555555556, \"#d8576b\"], [0.6666666666666666, \"#ed7953\"], [0.7777777777777778, \"#fb9f3a\"], [0.8888888888888888, \"#fdca26\"], [1.0, \"#f0f921\"]], \"type\": \"surface\"}], \"table\": [{\"cells\": {\"fill\": {\"color\": \"#EBF0F8\"}, \"line\": {\"color\": \"white\"}}, \"header\": {\"fill\": {\"color\": \"#C8D4E3\"}, \"line\": {\"color\": \"white\"}}, \"type\": \"table\"}]}, \"layout\": {\"annotationdefaults\": {\"arrowcolor\": \"#2a3f5f\", \"arrowhead\": 0, \"arrowwidth\": 1}, \"coloraxis\": {\"colorbar\": {\"outlinewidth\": 0, \"ticks\": \"\"}}, \"colorscale\": {\"diverging\": [[0, \"#8e0152\"], [0.1, \"#c51b7d\"], [0.2, \"#de77ae\"], [0.3, \"#f1b6da\"], [0.4, \"#fde0ef\"], [0.5, \"#f7f7f7\"], [0.6, \"#e6f5d0\"], [0.7, \"#b8e186\"], [0.8, \"#7fbc41\"], [0.9, \"#4d9221\"], [1, \"#276419\"]], \"sequential\": [[0.0, \"#0d0887\"], [0.1111111111111111, \"#46039f\"], [0.2222222222222222, \"#7201a8\"], [0.3333333333333333, \"#9c179e\"], [0.4444444444444444, \"#bd3786\"], [0.5555555555555556, \"#d8576b\"], [0.6666666666666666, \"#ed7953\"], [0.7777777777777778, \"#fb9f3a\"], [0.8888888888888888, \"#fdca26\"], [1.0, \"#f0f921\"]], \"sequentialminus\": [[0.0, \"#0d0887\"], [0.1111111111111111, \"#46039f\"], [0.2222222222222222, \"#7201a8\"], [0.3333333333333333, \"#9c179e\"], [0.4444444444444444, \"#bd3786\"], [0.5555555555555556, \"#d8576b\"], [0.6666666666666666, \"#ed7953\"], [0.7777777777777778, \"#fb9f3a\"], [0.8888888888888888, \"#fdca26\"], [1.0, \"#f0f921\"]]}, \"colorway\": [\"#636efa\", \"#EF553B\", \"#00cc96\", \"#ab63fa\", \"#FFA15A\", \"#19d3f3\", \"#FF6692\", \"#B6E880\", \"#FF97FF\", \"#FECB52\"], \"font\": {\"color\": \"#2a3f5f\"}, \"geo\": {\"bgcolor\": \"white\", \"lakecolor\": \"white\", \"landcolor\": \"#E5ECF6\", \"showlakes\": true, \"showland\": true, \"subunitcolor\": \"white\"}, \"hoverlabel\": {\"align\": \"left\"}, \"hovermode\": \"closest\", \"mapbox\": {\"style\": \"light\"}, \"paper_bgcolor\": \"white\", \"plot_bgcolor\": \"#E5ECF6\", \"polar\": {\"angularaxis\": {\"gridcolor\": \"white\", \"linecolor\": \"white\", \"ticks\": \"\"}, \"bgcolor\": \"#E5ECF6\", \"radialaxis\": {\"gridcolor\": \"white\", \"linecolor\": \"white\", \"ticks\": \"\"}}, \"scene\": {\"xaxis\": {\"backgroundcolor\": \"#E5ECF6\", \"gridcolor\": \"white\", \"gridwidth\": 2, \"linecolor\": \"white\", \"showbackground\": true, \"ticks\": \"\", \"zerolinecolor\": \"white\"}, \"yaxis\": {\"backgroundcolor\": \"#E5ECF6\", \"gridcolor\": \"white\", \"gridwidth\": 2, \"linecolor\": \"white\", \"showbackground\": true, \"ticks\": \"\", \"zerolinecolor\": \"white\"}, \"zaxis\": {\"backgroundcolor\": \"#E5ECF6\", \"gridcolor\": \"white\", \"gridwidth\": 2, \"linecolor\": \"white\", \"showbackground\": true, \"ticks\": \"\", \"zerolinecolor\": \"white\"}}, \"shapedefaults\": {\"line\": {\"color\": \"#2a3f5f\"}}, \"ternary\": {\"aaxis\": {\"gridcolor\": \"white\", \"linecolor\": \"white\", \"ticks\": \"\"}, \"baxis\": {\"gridcolor\": \"white\", \"linecolor\": \"white\", \"ticks\": \"\"}, \"bgcolor\": \"#E5ECF6\", \"caxis\": {\"gridcolor\": \"white\", \"linecolor\": \"white\", \"ticks\": \"\"}}, \"title\": {\"x\": 0.05}, \"xaxis\": {\"automargin\": true, \"gridcolor\": \"white\", \"linecolor\": \"white\", \"ticks\": \"\", \"title\": {\"standoff\": 15}, \"zerolinecolor\": \"white\", \"zerolinewidth\": 2}, \"yaxis\": {\"automargin\": true, \"gridcolor\": \"white\", \"linecolor\": \"white\", \"ticks\": \"\", \"title\": {\"standoff\": 15}, \"zerolinecolor\": \"white\", \"zerolinewidth\": 2}}}, \"title\": {\"text\": \"Stocks with Absoulte Average Change/Day in F&O Space\"}, \"width\": 2500, \"xaxis\": {\"tickangle\": -65, \"title\": {\"text\": \"TICKER NAME\"}}, \"yaxis\": {\"title\": {\"text\": \"Change in %\"}}},                        {\"responsive\": true}                    ).then(function(){\n",
       "                            \n",
       "var gd = document.getElementById('1188e6c9-d5a0-459a-95cc-be855fb811b9');\n",
       "var x = new MutationObserver(function (mutations, observer) {{\n",
       "        var display = window.getComputedStyle(gd).display;\n",
       "        if (!display || display === 'none') {{\n",
       "            console.log([gd, 'removed!']);\n",
       "            Plotly.purge(gd);\n",
       "            observer.disconnect();\n",
       "        }}\n",
       "}});\n",
       "\n",
       "// Listen for the removal of the full notebook cells\n",
       "var notebookContainer = gd.closest('#notebook-container');\n",
       "if (notebookContainer) {{\n",
       "    x.observe(notebookContainer, {childList: true});\n",
       "}}\n",
       "\n",
       "// Listen for the clearing of the current output cell\n",
       "var outputEl = gd.closest('.output');\n",
       "if (outputEl) {{\n",
       "    x.observe(outputEl, {childList: true});\n",
       "}}\n",
       "\n",
       "                        })                };                });            </script>        </div>"
      ]
     },
     "metadata": {},
     "output_type": "display_data"
    }
   ],
   "source": [
    "# MOST VOLATILE STOCKS\n",
    "fig = go.Figure()\n",
    "fig.add_trace(\n",
    "    go.Bar(y=stocks_mean,x=stocks,name='NNF10')\n",
    ")\n",
    "\n",
    "fig.update_layout(height=1200, width=2500, \n",
    "                  title_text=\"Stocks with Absoulte Average Change/Day in F&O Space\",\n",
    "                  yaxis_title=\"Change in %\",\n",
    "                  xaxis_title=\"TICKER NAME\")\n",
    "fig.update_xaxes(tickangle=-65)\n"
   ]
  },
  {
   "cell_type": "code",
   "execution_count": 32,
   "metadata": {},
   "outputs": [
    {
     "data": {
      "application/vnd.plotly.v1+json": {
       "config": {
        "plotlyServerURL": "https://plot.ly"
       },
       "data": [
        {
         "name": "NNF10",
         "type": "bar",
         "x": [
          "DABUR",
          "COLPAL",
          "BRITANNIA",
          "HINDUNILVR",
          "PIDILITIND",
          "MARICO",
          "NESTLEIND",
          "MRF",
          "TORNTPOWER",
          "BAJAJ-AUTO",
          "DRREDDY",
          "TCS",
          "BERGEPAINT",
          "ASIANPAINT",
          "POWERGRID",
          "SIEMENS",
          "UBL",
          "IOC",
          "WIPRO",
          "ITC",
          "SBILIFE",
          "HDFCAMC",
          "ULTRACEMCO",
          "DIVISLAB",
          "SRF",
          "HAVELLS",
          "EXIDEIND",
          "PAGEIND",
          "CIPLA",
          "BATAINDIA",
          "GODREJCP",
          "LT",
          "INFY",
          "ACC",
          "LUPIN",
          "SUNPHARMA",
          "TORNTPHARM",
          "SHREECEM",
          "PETRONET",
          "LALPATHLAB",
          "CADILAHC",
          "VOLTAS",
          "HCLTECH",
          "MCDOWELL-N",
          "TITAN",
          "COALINDIA",
          "ADANIPORTS",
          "HDFCLIFE",
          "NTPC",
          "BIOCON"
         ],
         "y": [
          1.307100160899405,
          1.3392107479199902,
          1.357705859509104,
          1.3738950017018383,
          1.3998548982295098,
          1.414062429975496,
          1.438805493780055,
          1.4594848212335985,
          1.463233038943896,
          1.4728859867323003,
          1.4872336530175643,
          1.4873217420628295,
          1.5329042137742888,
          1.534268149423916,
          1.5455574674619073,
          1.5631470166021342,
          1.564256385199309,
          1.5956335794198135,
          1.6032465406352359,
          1.6174325834369274,
          1.6196702002291068,
          1.6237083751832124,
          1.6375478000159185,
          1.643485897939653,
          1.6609449924655038,
          1.6635258444096355,
          1.6687288699083533,
          1.6717107491182601,
          1.67354595234022,
          1.6757231375813786,
          1.6896373238841953,
          1.692098034122073,
          1.6965374932174822,
          1.7101365818039724,
          1.7159754798833817,
          1.7284869734419905,
          1.7300229483024954,
          1.7338231404769802,
          1.7507056332312048,
          1.7517922746142767,
          1.7531923108913463,
          1.756257585244747,
          1.7609880372359452,
          1.7652781054616633,
          1.7654374232063699,
          1.7704685834765008,
          1.7750392432773627,
          1.776308529868838,
          1.7778705353937578,
          1.7833553933706272
         ]
        }
       ],
       "layout": {
        "height": 600,
        "template": {
         "data": {
          "bar": [
           {
            "error_x": {
             "color": "#2a3f5f"
            },
            "error_y": {
             "color": "#2a3f5f"
            },
            "marker": {
             "line": {
              "color": "#E5ECF6",
              "width": 0.5
             }
            },
            "type": "bar"
           }
          ],
          "barpolar": [
           {
            "marker": {
             "line": {
              "color": "#E5ECF6",
              "width": 0.5
             }
            },
            "type": "barpolar"
           }
          ],
          "carpet": [
           {
            "aaxis": {
             "endlinecolor": "#2a3f5f",
             "gridcolor": "white",
             "linecolor": "white",
             "minorgridcolor": "white",
             "startlinecolor": "#2a3f5f"
            },
            "baxis": {
             "endlinecolor": "#2a3f5f",
             "gridcolor": "white",
             "linecolor": "white",
             "minorgridcolor": "white",
             "startlinecolor": "#2a3f5f"
            },
            "type": "carpet"
           }
          ],
          "choropleth": [
           {
            "colorbar": {
             "outlinewidth": 0,
             "ticks": ""
            },
            "type": "choropleth"
           }
          ],
          "contour": [
           {
            "colorbar": {
             "outlinewidth": 0,
             "ticks": ""
            },
            "colorscale": [
             [
              0,
              "#0d0887"
             ],
             [
              0.1111111111111111,
              "#46039f"
             ],
             [
              0.2222222222222222,
              "#7201a8"
             ],
             [
              0.3333333333333333,
              "#9c179e"
             ],
             [
              0.4444444444444444,
              "#bd3786"
             ],
             [
              0.5555555555555556,
              "#d8576b"
             ],
             [
              0.6666666666666666,
              "#ed7953"
             ],
             [
              0.7777777777777778,
              "#fb9f3a"
             ],
             [
              0.8888888888888888,
              "#fdca26"
             ],
             [
              1,
              "#f0f921"
             ]
            ],
            "type": "contour"
           }
          ],
          "contourcarpet": [
           {
            "colorbar": {
             "outlinewidth": 0,
             "ticks": ""
            },
            "type": "contourcarpet"
           }
          ],
          "heatmap": [
           {
            "colorbar": {
             "outlinewidth": 0,
             "ticks": ""
            },
            "colorscale": [
             [
              0,
              "#0d0887"
             ],
             [
              0.1111111111111111,
              "#46039f"
             ],
             [
              0.2222222222222222,
              "#7201a8"
             ],
             [
              0.3333333333333333,
              "#9c179e"
             ],
             [
              0.4444444444444444,
              "#bd3786"
             ],
             [
              0.5555555555555556,
              "#d8576b"
             ],
             [
              0.6666666666666666,
              "#ed7953"
             ],
             [
              0.7777777777777778,
              "#fb9f3a"
             ],
             [
              0.8888888888888888,
              "#fdca26"
             ],
             [
              1,
              "#f0f921"
             ]
            ],
            "type": "heatmap"
           }
          ],
          "heatmapgl": [
           {
            "colorbar": {
             "outlinewidth": 0,
             "ticks": ""
            },
            "colorscale": [
             [
              0,
              "#0d0887"
             ],
             [
              0.1111111111111111,
              "#46039f"
             ],
             [
              0.2222222222222222,
              "#7201a8"
             ],
             [
              0.3333333333333333,
              "#9c179e"
             ],
             [
              0.4444444444444444,
              "#bd3786"
             ],
             [
              0.5555555555555556,
              "#d8576b"
             ],
             [
              0.6666666666666666,
              "#ed7953"
             ],
             [
              0.7777777777777778,
              "#fb9f3a"
             ],
             [
              0.8888888888888888,
              "#fdca26"
             ],
             [
              1,
              "#f0f921"
             ]
            ],
            "type": "heatmapgl"
           }
          ],
          "histogram": [
           {
            "marker": {
             "colorbar": {
              "outlinewidth": 0,
              "ticks": ""
             }
            },
            "type": "histogram"
           }
          ],
          "histogram2d": [
           {
            "colorbar": {
             "outlinewidth": 0,
             "ticks": ""
            },
            "colorscale": [
             [
              0,
              "#0d0887"
             ],
             [
              0.1111111111111111,
              "#46039f"
             ],
             [
              0.2222222222222222,
              "#7201a8"
             ],
             [
              0.3333333333333333,
              "#9c179e"
             ],
             [
              0.4444444444444444,
              "#bd3786"
             ],
             [
              0.5555555555555556,
              "#d8576b"
             ],
             [
              0.6666666666666666,
              "#ed7953"
             ],
             [
              0.7777777777777778,
              "#fb9f3a"
             ],
             [
              0.8888888888888888,
              "#fdca26"
             ],
             [
              1,
              "#f0f921"
             ]
            ],
            "type": "histogram2d"
           }
          ],
          "histogram2dcontour": [
           {
            "colorbar": {
             "outlinewidth": 0,
             "ticks": ""
            },
            "colorscale": [
             [
              0,
              "#0d0887"
             ],
             [
              0.1111111111111111,
              "#46039f"
             ],
             [
              0.2222222222222222,
              "#7201a8"
             ],
             [
              0.3333333333333333,
              "#9c179e"
             ],
             [
              0.4444444444444444,
              "#bd3786"
             ],
             [
              0.5555555555555556,
              "#d8576b"
             ],
             [
              0.6666666666666666,
              "#ed7953"
             ],
             [
              0.7777777777777778,
              "#fb9f3a"
             ],
             [
              0.8888888888888888,
              "#fdca26"
             ],
             [
              1,
              "#f0f921"
             ]
            ],
            "type": "histogram2dcontour"
           }
          ],
          "mesh3d": [
           {
            "colorbar": {
             "outlinewidth": 0,
             "ticks": ""
            },
            "type": "mesh3d"
           }
          ],
          "parcoords": [
           {
            "line": {
             "colorbar": {
              "outlinewidth": 0,
              "ticks": ""
             }
            },
            "type": "parcoords"
           }
          ],
          "pie": [
           {
            "automargin": true,
            "type": "pie"
           }
          ],
          "scatter": [
           {
            "marker": {
             "colorbar": {
              "outlinewidth": 0,
              "ticks": ""
             }
            },
            "type": "scatter"
           }
          ],
          "scatter3d": [
           {
            "line": {
             "colorbar": {
              "outlinewidth": 0,
              "ticks": ""
             }
            },
            "marker": {
             "colorbar": {
              "outlinewidth": 0,
              "ticks": ""
             }
            },
            "type": "scatter3d"
           }
          ],
          "scattercarpet": [
           {
            "marker": {
             "colorbar": {
              "outlinewidth": 0,
              "ticks": ""
             }
            },
            "type": "scattercarpet"
           }
          ],
          "scattergeo": [
           {
            "marker": {
             "colorbar": {
              "outlinewidth": 0,
              "ticks": ""
             }
            },
            "type": "scattergeo"
           }
          ],
          "scattergl": [
           {
            "marker": {
             "colorbar": {
              "outlinewidth": 0,
              "ticks": ""
             }
            },
            "type": "scattergl"
           }
          ],
          "scattermapbox": [
           {
            "marker": {
             "colorbar": {
              "outlinewidth": 0,
              "ticks": ""
             }
            },
            "type": "scattermapbox"
           }
          ],
          "scatterpolar": [
           {
            "marker": {
             "colorbar": {
              "outlinewidth": 0,
              "ticks": ""
             }
            },
            "type": "scatterpolar"
           }
          ],
          "scatterpolargl": [
           {
            "marker": {
             "colorbar": {
              "outlinewidth": 0,
              "ticks": ""
             }
            },
            "type": "scatterpolargl"
           }
          ],
          "scatterternary": [
           {
            "marker": {
             "colorbar": {
              "outlinewidth": 0,
              "ticks": ""
             }
            },
            "type": "scatterternary"
           }
          ],
          "surface": [
           {
            "colorbar": {
             "outlinewidth": 0,
             "ticks": ""
            },
            "colorscale": [
             [
              0,
              "#0d0887"
             ],
             [
              0.1111111111111111,
              "#46039f"
             ],
             [
              0.2222222222222222,
              "#7201a8"
             ],
             [
              0.3333333333333333,
              "#9c179e"
             ],
             [
              0.4444444444444444,
              "#bd3786"
             ],
             [
              0.5555555555555556,
              "#d8576b"
             ],
             [
              0.6666666666666666,
              "#ed7953"
             ],
             [
              0.7777777777777778,
              "#fb9f3a"
             ],
             [
              0.8888888888888888,
              "#fdca26"
             ],
             [
              1,
              "#f0f921"
             ]
            ],
            "type": "surface"
           }
          ],
          "table": [
           {
            "cells": {
             "fill": {
              "color": "#EBF0F8"
             },
             "line": {
              "color": "white"
             }
            },
            "header": {
             "fill": {
              "color": "#C8D4E3"
             },
             "line": {
              "color": "white"
             }
            },
            "type": "table"
           }
          ]
         },
         "layout": {
          "annotationdefaults": {
           "arrowcolor": "#2a3f5f",
           "arrowhead": 0,
           "arrowwidth": 1
          },
          "coloraxis": {
           "colorbar": {
            "outlinewidth": 0,
            "ticks": ""
           }
          },
          "colorscale": {
           "diverging": [
            [
             0,
             "#8e0152"
            ],
            [
             0.1,
             "#c51b7d"
            ],
            [
             0.2,
             "#de77ae"
            ],
            [
             0.3,
             "#f1b6da"
            ],
            [
             0.4,
             "#fde0ef"
            ],
            [
             0.5,
             "#f7f7f7"
            ],
            [
             0.6,
             "#e6f5d0"
            ],
            [
             0.7,
             "#b8e186"
            ],
            [
             0.8,
             "#7fbc41"
            ],
            [
             0.9,
             "#4d9221"
            ],
            [
             1,
             "#276419"
            ]
           ],
           "sequential": [
            [
             0,
             "#0d0887"
            ],
            [
             0.1111111111111111,
             "#46039f"
            ],
            [
             0.2222222222222222,
             "#7201a8"
            ],
            [
             0.3333333333333333,
             "#9c179e"
            ],
            [
             0.4444444444444444,
             "#bd3786"
            ],
            [
             0.5555555555555556,
             "#d8576b"
            ],
            [
             0.6666666666666666,
             "#ed7953"
            ],
            [
             0.7777777777777778,
             "#fb9f3a"
            ],
            [
             0.8888888888888888,
             "#fdca26"
            ],
            [
             1,
             "#f0f921"
            ]
           ],
           "sequentialminus": [
            [
             0,
             "#0d0887"
            ],
            [
             0.1111111111111111,
             "#46039f"
            ],
            [
             0.2222222222222222,
             "#7201a8"
            ],
            [
             0.3333333333333333,
             "#9c179e"
            ],
            [
             0.4444444444444444,
             "#bd3786"
            ],
            [
             0.5555555555555556,
             "#d8576b"
            ],
            [
             0.6666666666666666,
             "#ed7953"
            ],
            [
             0.7777777777777778,
             "#fb9f3a"
            ],
            [
             0.8888888888888888,
             "#fdca26"
            ],
            [
             1,
             "#f0f921"
            ]
           ]
          },
          "colorway": [
           "#636efa",
           "#EF553B",
           "#00cc96",
           "#ab63fa",
           "#FFA15A",
           "#19d3f3",
           "#FF6692",
           "#B6E880",
           "#FF97FF",
           "#FECB52"
          ],
          "font": {
           "color": "#2a3f5f"
          },
          "geo": {
           "bgcolor": "white",
           "lakecolor": "white",
           "landcolor": "#E5ECF6",
           "showlakes": true,
           "showland": true,
           "subunitcolor": "white"
          },
          "hoverlabel": {
           "align": "left"
          },
          "hovermode": "closest",
          "mapbox": {
           "style": "light"
          },
          "paper_bgcolor": "white",
          "plot_bgcolor": "#E5ECF6",
          "polar": {
           "angularaxis": {
            "gridcolor": "white",
            "linecolor": "white",
            "ticks": ""
           },
           "bgcolor": "#E5ECF6",
           "radialaxis": {
            "gridcolor": "white",
            "linecolor": "white",
            "ticks": ""
           }
          },
          "scene": {
           "xaxis": {
            "backgroundcolor": "#E5ECF6",
            "gridcolor": "white",
            "gridwidth": 2,
            "linecolor": "white",
            "showbackground": true,
            "ticks": "",
            "zerolinecolor": "white"
           },
           "yaxis": {
            "backgroundcolor": "#E5ECF6",
            "gridcolor": "white",
            "gridwidth": 2,
            "linecolor": "white",
            "showbackground": true,
            "ticks": "",
            "zerolinecolor": "white"
           },
           "zaxis": {
            "backgroundcolor": "#E5ECF6",
            "gridcolor": "white",
            "gridwidth": 2,
            "linecolor": "white",
            "showbackground": true,
            "ticks": "",
            "zerolinecolor": "white"
           }
          },
          "shapedefaults": {
           "line": {
            "color": "#2a3f5f"
           }
          },
          "ternary": {
           "aaxis": {
            "gridcolor": "white",
            "linecolor": "white",
            "ticks": ""
           },
           "baxis": {
            "gridcolor": "white",
            "linecolor": "white",
            "ticks": ""
           },
           "bgcolor": "#E5ECF6",
           "caxis": {
            "gridcolor": "white",
            "linecolor": "white",
            "ticks": ""
           }
          },
          "title": {
           "x": 0.05
          },
          "xaxis": {
           "automargin": true,
           "gridcolor": "white",
           "linecolor": "white",
           "ticks": "",
           "title": {
            "standoff": 15
           },
           "zerolinecolor": "white",
           "zerolinewidth": 2
          },
          "yaxis": {
           "automargin": true,
           "gridcolor": "white",
           "linecolor": "white",
           "ticks": "",
           "title": {
            "standoff": 15
           },
           "zerolinecolor": "white",
           "zerolinewidth": 2
          }
         }
        },
        "title": {
         "text": "TOP 50 Stocks with Least Average Change/Day in F&O Space"
        },
        "width": 1000,
        "xaxis": {
         "tickangle": -65,
         "title": {
          "text": "TICKER NAME"
         }
        },
        "yaxis": {
         "title": {
          "text": "Change in %"
         }
        }
       }
      },
      "text/html": [
       "<div>                            <div id=\"5df68552-7478-407d-8bfc-445307b0d8ed\" class=\"plotly-graph-div\" style=\"height:600px; width:1000px;\"></div>            <script type=\"text/javascript\">                require([\"plotly\"], function(Plotly) {                    window.PLOTLYENV=window.PLOTLYENV || {};                                    if (document.getElementById(\"5df68552-7478-407d-8bfc-445307b0d8ed\")) {                    Plotly.newPlot(                        \"5df68552-7478-407d-8bfc-445307b0d8ed\",                        [{\"name\": \"NNF10\", \"type\": \"bar\", \"x\": [\"DABUR\", \"COLPAL\", \"BRITANNIA\", \"HINDUNILVR\", \"PIDILITIND\", \"MARICO\", \"NESTLEIND\", \"MRF\", \"TORNTPOWER\", \"BAJAJ-AUTO\", \"DRREDDY\", \"TCS\", \"BERGEPAINT\", \"ASIANPAINT\", \"POWERGRID\", \"SIEMENS\", \"UBL\", \"IOC\", \"WIPRO\", \"ITC\", \"SBILIFE\", \"HDFCAMC\", \"ULTRACEMCO\", \"DIVISLAB\", \"SRF\", \"HAVELLS\", \"EXIDEIND\", \"PAGEIND\", \"CIPLA\", \"BATAINDIA\", \"GODREJCP\", \"LT\", \"INFY\", \"ACC\", \"LUPIN\", \"SUNPHARMA\", \"TORNTPHARM\", \"SHREECEM\", \"PETRONET\", \"LALPATHLAB\", \"CADILAHC\", \"VOLTAS\", \"HCLTECH\", \"MCDOWELL-N\", \"TITAN\", \"COALINDIA\", \"ADANIPORTS\", \"HDFCLIFE\", \"NTPC\", \"BIOCON\"], \"y\": [1.307100160899405, 1.3392107479199902, 1.357705859509104, 1.3738950017018383, 1.3998548982295098, 1.414062429975496, 1.438805493780055, 1.4594848212335985, 1.463233038943896, 1.4728859867323003, 1.4872336530175643, 1.4873217420628295, 1.5329042137742888, 1.534268149423916, 1.5455574674619073, 1.5631470166021342, 1.564256385199309, 1.5956335794198135, 1.6032465406352359, 1.6174325834369274, 1.6196702002291068, 1.6237083751832124, 1.6375478000159185, 1.643485897939653, 1.6609449924655038, 1.6635258444096355, 1.6687288699083533, 1.6717107491182601, 1.67354595234022, 1.6757231375813786, 1.6896373238841953, 1.692098034122073, 1.6965374932174822, 1.7101365818039724, 1.7159754798833817, 1.7284869734419905, 1.7300229483024954, 1.7338231404769802, 1.7507056332312048, 1.7517922746142767, 1.7531923108913463, 1.756257585244747, 1.7609880372359452, 1.7652781054616633, 1.7654374232063699, 1.7704685834765008, 1.7750392432773627, 1.776308529868838, 1.7778705353937578, 1.7833553933706272]}],                        {\"height\": 600, \"template\": {\"data\": {\"bar\": [{\"error_x\": {\"color\": \"#2a3f5f\"}, \"error_y\": {\"color\": \"#2a3f5f\"}, \"marker\": {\"line\": {\"color\": \"#E5ECF6\", \"width\": 0.5}}, \"type\": \"bar\"}], \"barpolar\": [{\"marker\": {\"line\": {\"color\": \"#E5ECF6\", \"width\": 0.5}}, \"type\": \"barpolar\"}], \"carpet\": [{\"aaxis\": {\"endlinecolor\": \"#2a3f5f\", \"gridcolor\": \"white\", \"linecolor\": \"white\", \"minorgridcolor\": \"white\", \"startlinecolor\": \"#2a3f5f\"}, \"baxis\": {\"endlinecolor\": \"#2a3f5f\", \"gridcolor\": \"white\", \"linecolor\": \"white\", \"minorgridcolor\": \"white\", \"startlinecolor\": \"#2a3f5f\"}, \"type\": \"carpet\"}], \"choropleth\": [{\"colorbar\": {\"outlinewidth\": 0, \"ticks\": \"\"}, \"type\": \"choropleth\"}], \"contour\": [{\"colorbar\": {\"outlinewidth\": 0, \"ticks\": \"\"}, \"colorscale\": [[0.0, \"#0d0887\"], [0.1111111111111111, \"#46039f\"], [0.2222222222222222, \"#7201a8\"], [0.3333333333333333, \"#9c179e\"], [0.4444444444444444, \"#bd3786\"], [0.5555555555555556, \"#d8576b\"], [0.6666666666666666, \"#ed7953\"], [0.7777777777777778, \"#fb9f3a\"], [0.8888888888888888, \"#fdca26\"], [1.0, \"#f0f921\"]], \"type\": \"contour\"}], \"contourcarpet\": [{\"colorbar\": {\"outlinewidth\": 0, \"ticks\": \"\"}, \"type\": \"contourcarpet\"}], \"heatmap\": [{\"colorbar\": {\"outlinewidth\": 0, \"ticks\": \"\"}, \"colorscale\": [[0.0, \"#0d0887\"], [0.1111111111111111, \"#46039f\"], [0.2222222222222222, \"#7201a8\"], [0.3333333333333333, \"#9c179e\"], [0.4444444444444444, \"#bd3786\"], [0.5555555555555556, \"#d8576b\"], [0.6666666666666666, \"#ed7953\"], [0.7777777777777778, \"#fb9f3a\"], [0.8888888888888888, \"#fdca26\"], [1.0, \"#f0f921\"]], \"type\": \"heatmap\"}], \"heatmapgl\": [{\"colorbar\": {\"outlinewidth\": 0, \"ticks\": \"\"}, \"colorscale\": [[0.0, \"#0d0887\"], [0.1111111111111111, \"#46039f\"], [0.2222222222222222, \"#7201a8\"], [0.3333333333333333, \"#9c179e\"], [0.4444444444444444, \"#bd3786\"], [0.5555555555555556, \"#d8576b\"], [0.6666666666666666, \"#ed7953\"], [0.7777777777777778, \"#fb9f3a\"], [0.8888888888888888, \"#fdca26\"], [1.0, \"#f0f921\"]], \"type\": \"heatmapgl\"}], \"histogram\": [{\"marker\": {\"colorbar\": {\"outlinewidth\": 0, \"ticks\": \"\"}}, \"type\": \"histogram\"}], \"histogram2d\": [{\"colorbar\": {\"outlinewidth\": 0, \"ticks\": \"\"}, \"colorscale\": [[0.0, \"#0d0887\"], [0.1111111111111111, \"#46039f\"], [0.2222222222222222, \"#7201a8\"], [0.3333333333333333, \"#9c179e\"], [0.4444444444444444, \"#bd3786\"], [0.5555555555555556, \"#d8576b\"], [0.6666666666666666, \"#ed7953\"], [0.7777777777777778, \"#fb9f3a\"], [0.8888888888888888, \"#fdca26\"], [1.0, \"#f0f921\"]], \"type\": \"histogram2d\"}], \"histogram2dcontour\": [{\"colorbar\": {\"outlinewidth\": 0, \"ticks\": \"\"}, \"colorscale\": [[0.0, \"#0d0887\"], [0.1111111111111111, \"#46039f\"], [0.2222222222222222, \"#7201a8\"], [0.3333333333333333, \"#9c179e\"], [0.4444444444444444, \"#bd3786\"], [0.5555555555555556, \"#d8576b\"], [0.6666666666666666, \"#ed7953\"], [0.7777777777777778, \"#fb9f3a\"], [0.8888888888888888, \"#fdca26\"], [1.0, \"#f0f921\"]], \"type\": \"histogram2dcontour\"}], \"mesh3d\": [{\"colorbar\": {\"outlinewidth\": 0, \"ticks\": \"\"}, \"type\": \"mesh3d\"}], \"parcoords\": [{\"line\": {\"colorbar\": {\"outlinewidth\": 0, \"ticks\": \"\"}}, \"type\": \"parcoords\"}], \"pie\": [{\"automargin\": true, \"type\": \"pie\"}], \"scatter\": [{\"marker\": {\"colorbar\": {\"outlinewidth\": 0, \"ticks\": \"\"}}, \"type\": \"scatter\"}], \"scatter3d\": [{\"line\": {\"colorbar\": {\"outlinewidth\": 0, \"ticks\": \"\"}}, \"marker\": {\"colorbar\": {\"outlinewidth\": 0, \"ticks\": \"\"}}, \"type\": \"scatter3d\"}], \"scattercarpet\": [{\"marker\": {\"colorbar\": {\"outlinewidth\": 0, \"ticks\": \"\"}}, \"type\": \"scattercarpet\"}], \"scattergeo\": [{\"marker\": {\"colorbar\": {\"outlinewidth\": 0, \"ticks\": \"\"}}, \"type\": \"scattergeo\"}], \"scattergl\": [{\"marker\": {\"colorbar\": {\"outlinewidth\": 0, \"ticks\": \"\"}}, \"type\": \"scattergl\"}], \"scattermapbox\": [{\"marker\": {\"colorbar\": {\"outlinewidth\": 0, \"ticks\": \"\"}}, \"type\": \"scattermapbox\"}], \"scatterpolar\": [{\"marker\": {\"colorbar\": {\"outlinewidth\": 0, \"ticks\": \"\"}}, \"type\": \"scatterpolar\"}], \"scatterpolargl\": [{\"marker\": {\"colorbar\": {\"outlinewidth\": 0, \"ticks\": \"\"}}, \"type\": \"scatterpolargl\"}], \"scatterternary\": [{\"marker\": {\"colorbar\": {\"outlinewidth\": 0, \"ticks\": \"\"}}, \"type\": \"scatterternary\"}], \"surface\": [{\"colorbar\": {\"outlinewidth\": 0, \"ticks\": \"\"}, \"colorscale\": [[0.0, \"#0d0887\"], [0.1111111111111111, \"#46039f\"], [0.2222222222222222, \"#7201a8\"], [0.3333333333333333, \"#9c179e\"], [0.4444444444444444, \"#bd3786\"], [0.5555555555555556, \"#d8576b\"], [0.6666666666666666, \"#ed7953\"], [0.7777777777777778, \"#fb9f3a\"], [0.8888888888888888, \"#fdca26\"], [1.0, \"#f0f921\"]], \"type\": \"surface\"}], \"table\": [{\"cells\": {\"fill\": {\"color\": \"#EBF0F8\"}, \"line\": {\"color\": \"white\"}}, \"header\": {\"fill\": {\"color\": \"#C8D4E3\"}, \"line\": {\"color\": \"white\"}}, \"type\": \"table\"}]}, \"layout\": {\"annotationdefaults\": {\"arrowcolor\": \"#2a3f5f\", \"arrowhead\": 0, \"arrowwidth\": 1}, \"coloraxis\": {\"colorbar\": {\"outlinewidth\": 0, \"ticks\": \"\"}}, \"colorscale\": {\"diverging\": [[0, \"#8e0152\"], [0.1, \"#c51b7d\"], [0.2, \"#de77ae\"], [0.3, \"#f1b6da\"], [0.4, \"#fde0ef\"], [0.5, \"#f7f7f7\"], [0.6, \"#e6f5d0\"], [0.7, \"#b8e186\"], [0.8, \"#7fbc41\"], [0.9, \"#4d9221\"], [1, \"#276419\"]], \"sequential\": [[0.0, \"#0d0887\"], [0.1111111111111111, \"#46039f\"], [0.2222222222222222, \"#7201a8\"], [0.3333333333333333, \"#9c179e\"], [0.4444444444444444, \"#bd3786\"], [0.5555555555555556, \"#d8576b\"], [0.6666666666666666, \"#ed7953\"], [0.7777777777777778, \"#fb9f3a\"], [0.8888888888888888, \"#fdca26\"], [1.0, \"#f0f921\"]], \"sequentialminus\": [[0.0, \"#0d0887\"], [0.1111111111111111, \"#46039f\"], [0.2222222222222222, \"#7201a8\"], [0.3333333333333333, \"#9c179e\"], [0.4444444444444444, \"#bd3786\"], [0.5555555555555556, \"#d8576b\"], [0.6666666666666666, \"#ed7953\"], [0.7777777777777778, \"#fb9f3a\"], [0.8888888888888888, \"#fdca26\"], [1.0, \"#f0f921\"]]}, \"colorway\": [\"#636efa\", \"#EF553B\", \"#00cc96\", \"#ab63fa\", \"#FFA15A\", \"#19d3f3\", \"#FF6692\", \"#B6E880\", \"#FF97FF\", \"#FECB52\"], \"font\": {\"color\": \"#2a3f5f\"}, \"geo\": {\"bgcolor\": \"white\", \"lakecolor\": \"white\", \"landcolor\": \"#E5ECF6\", \"showlakes\": true, \"showland\": true, \"subunitcolor\": \"white\"}, \"hoverlabel\": {\"align\": \"left\"}, \"hovermode\": \"closest\", \"mapbox\": {\"style\": \"light\"}, \"paper_bgcolor\": \"white\", \"plot_bgcolor\": \"#E5ECF6\", \"polar\": {\"angularaxis\": {\"gridcolor\": \"white\", \"linecolor\": \"white\", \"ticks\": \"\"}, \"bgcolor\": \"#E5ECF6\", \"radialaxis\": {\"gridcolor\": \"white\", \"linecolor\": \"white\", \"ticks\": \"\"}}, \"scene\": {\"xaxis\": {\"backgroundcolor\": \"#E5ECF6\", \"gridcolor\": \"white\", \"gridwidth\": 2, \"linecolor\": \"white\", \"showbackground\": true, \"ticks\": \"\", \"zerolinecolor\": \"white\"}, \"yaxis\": {\"backgroundcolor\": \"#E5ECF6\", \"gridcolor\": \"white\", \"gridwidth\": 2, \"linecolor\": \"white\", \"showbackground\": true, \"ticks\": \"\", \"zerolinecolor\": \"white\"}, \"zaxis\": {\"backgroundcolor\": \"#E5ECF6\", \"gridcolor\": \"white\", \"gridwidth\": 2, \"linecolor\": \"white\", \"showbackground\": true, \"ticks\": \"\", \"zerolinecolor\": \"white\"}}, \"shapedefaults\": {\"line\": {\"color\": \"#2a3f5f\"}}, \"ternary\": {\"aaxis\": {\"gridcolor\": \"white\", \"linecolor\": \"white\", \"ticks\": \"\"}, \"baxis\": {\"gridcolor\": \"white\", \"linecolor\": \"white\", \"ticks\": \"\"}, \"bgcolor\": \"#E5ECF6\", \"caxis\": {\"gridcolor\": \"white\", \"linecolor\": \"white\", \"ticks\": \"\"}}, \"title\": {\"x\": 0.05}, \"xaxis\": {\"automargin\": true, \"gridcolor\": \"white\", \"linecolor\": \"white\", \"ticks\": \"\", \"title\": {\"standoff\": 15}, \"zerolinecolor\": \"white\", \"zerolinewidth\": 2}, \"yaxis\": {\"automargin\": true, \"gridcolor\": \"white\", \"linecolor\": \"white\", \"ticks\": \"\", \"title\": {\"standoff\": 15}, \"zerolinecolor\": \"white\", \"zerolinewidth\": 2}}}, \"title\": {\"text\": \"TOP 50 Stocks with Least Average Change/Day in F&O Space\"}, \"width\": 1000, \"xaxis\": {\"tickangle\": -65, \"title\": {\"text\": \"TICKER NAME\"}}, \"yaxis\": {\"title\": {\"text\": \"Change in %\"}}},                        {\"responsive\": true}                    ).then(function(){\n",
       "                            \n",
       "var gd = document.getElementById('5df68552-7478-407d-8bfc-445307b0d8ed');\n",
       "var x = new MutationObserver(function (mutations, observer) {{\n",
       "        var display = window.getComputedStyle(gd).display;\n",
       "        if (!display || display === 'none') {{\n",
       "            console.log([gd, 'removed!']);\n",
       "            Plotly.purge(gd);\n",
       "            observer.disconnect();\n",
       "        }}\n",
       "}});\n",
       "\n",
       "// Listen for the removal of the full notebook cells\n",
       "var notebookContainer = gd.closest('#notebook-container');\n",
       "if (notebookContainer) {{\n",
       "    x.observe(notebookContainer, {childList: true});\n",
       "}}\n",
       "\n",
       "// Listen for the clearing of the current output cell\n",
       "var outputEl = gd.closest('.output');\n",
       "if (outputEl) {{\n",
       "    x.observe(outputEl, {childList: true});\n",
       "}}\n",
       "\n",
       "                        })                };                });            </script>        </div>"
      ]
     },
     "metadata": {},
     "output_type": "display_data"
    }
   ],
   "source": [
    "# LEAST VOLATILE STOCKS\n",
    "fig = go.Figure()\n",
    "fig.add_trace(\n",
    "    go.Bar(y=stocks_mean[:50],x=stocks[:50],name='NNF10')\n",
    ")\n",
    "\n",
    "fig.update_layout(height=600, width=1000, \n",
    "                  title_text=\"TOP 50 Stocks with Least Average Change/Day in F&O Space\",\n",
    "                  yaxis_title=\"Change in %\",\n",
    "                  xaxis_title=\"TICKER NAME\")\n",
    "\n",
    "fig.update_xaxes(tickangle=-65)\n"
   ]
  },
  {
   "cell_type": "code",
   "execution_count": 33,
   "metadata": {},
   "outputs": [],
   "source": [
    "df.sort_values(by='Volatility', axis=1,inplace=True)"
   ]
  },
  {
   "cell_type": "code",
   "execution_count": 34,
   "metadata": {},
   "outputs": [],
   "source": [
    "stocks=df.columns.to_list()\n",
    "stocks_values=df.loc['Volatility'].to_list()\n",
    "stocks=[x[:-3] for x in stocks]"
   ]
  },
  {
   "cell_type": "code",
   "execution_count": null,
   "metadata": {},
   "outputs": [],
   "source": []
  },
  {
   "cell_type": "code",
   "execution_count": 35,
   "metadata": {},
   "outputs": [
    {
     "data": {
      "application/vnd.plotly.v1+json": {
       "config": {
        "plotlyServerURL": "https://plot.ly"
       },
       "data": [
        {
         "name": "NNF10",
         "type": "bar",
         "x": [
          "DABUR",
          "POWERGRID",
          "MARICO",
          "DRREDDY",
          "COLPAL",
          "ASIANPAINT",
          "NESTLEIND",
          "MRF",
          "SIEMENS",
          "TORNTPOWER",
          "BATAINDIA",
          "PIDILITIND",
          "SUNPHARMA",
          "PAGEIND",
          "HDFCBANK",
          "VOLTAS",
          "ACC",
          "HAVELLS",
          "ULTRACEMCO",
          "IOC",
          "UBL",
          "BERGEPAINT",
          "HINDUNILVR",
          "BAJAJ-AUTO",
          "SBILIFE",
          "HCLTECH",
          "BRITANNIA",
          "BIOCON",
          "PETRONET",
          "RAMCOCEM",
          "LUPIN",
          "ITC",
          "MCDOWELL-N",
          "CADILAHC",
          "ADANIPORTS",
          "MGL",
          "EXIDEIND",
          "DIVISLAB",
          "NTPC",
          "AMBUJACEM",
          "CUMMINSIND",
          "HDFCAMC",
          "TCS",
          "TECHM",
          "ICICIGI",
          "EICHERMOT",
          "GRASIM",
          "TITAN",
          "LALPATHLAB",
          "TORNTPHARM",
          "WIPRO",
          "CIPLA",
          "GODREJCP",
          "SRF",
          "BHARTIARTL",
          "RELIANCE",
          "LT",
          "INFY",
          "SHREECEM",
          "TVSMOTOR",
          "COALINDIA",
          "CONCOR",
          "KOTAKBANK",
          "HEROMOTOCO",
          "HDFCLIFE",
          "AMARAJABAT",
          "AARTIIND",
          "MARUTI",
          "RECLTD",
          "NAUKRI",
          "GMRINFRA",
          "APOLLOHOSP",
          "PFC",
          "ICICIPRULI",
          "JUBLFOOD",
          "BALKRISIND",
          "SUNTV",
          "TATACONSUM",
          "TATACHEM",
          "IGL",
          "MINDTREE",
          "HDFC",
          "ESCORTS",
          "GAIL",
          "APOLLOTYRE",
          "HINDPETRO",
          "SBIN",
          "GLENMARK",
          "ONGC",
          "JSWSTEEL",
          "BPCL",
          "M&M",
          "BOSCHLTD",
          "VEDL",
          "UPL",
          "NMDC",
          "PNB",
          "AUROPHARMA",
          "MFSL",
          "BANKBARODA",
          "INDIGO",
          "ICICIBANK",
          "NATIONALUM",
          "BHARATFORG",
          "TATAPOWER",
          "BAJAJFINSV",
          "MANAPPURAM",
          "BHEL",
          "AXISBANK",
          "TATASTEEL",
          "BEL",
          "ADANIENT",
          "GODREJPROP",
          "MUTHOOTFIN",
          "DLF",
          "CANBK",
          "FEDERALBNK",
          "TATAMOTORS",
          "BAJFINANCE",
          "ASHOKLEY",
          "HINDALCO",
          "LICHSGFIN",
          "IDFCFIRSTB",
          "SAIL",
          "PEL",
          "L&TFH",
          "PVR",
          "MOTHERSUMI",
          "M&MFIN",
          "RBLBANK",
          "CHOLAFIN",
          "JINDALSTEL",
          "ZEEL",
          "BANDHANBNK",
          "SRTRANSFIN",
          "INDUSINDBK",
          "IBULHSGFIN",
          "IDEA"
         ],
         "y": [
          6,
          6,
          7,
          7,
          8,
          8,
          8,
          8,
          9,
          9,
          10,
          10,
          10,
          11,
          11,
          11,
          11,
          11,
          11,
          11,
          11,
          11,
          11,
          11,
          12,
          12,
          12,
          12,
          12,
          12,
          12,
          13,
          13,
          13,
          13,
          13,
          13,
          13,
          13,
          14,
          14,
          14,
          14,
          15,
          15,
          15,
          15,
          15,
          15,
          15,
          15,
          15,
          16,
          16,
          16,
          16,
          16,
          16,
          16,
          17,
          17,
          18,
          18,
          18,
          18,
          18,
          18,
          18,
          19,
          19,
          19,
          19,
          19,
          20,
          20,
          20,
          20,
          20,
          20,
          20,
          20,
          21,
          22,
          22,
          23,
          23,
          23,
          24,
          24,
          24,
          24,
          24,
          24,
          25,
          25,
          25,
          25,
          25,
          26,
          26,
          26,
          26,
          26,
          26,
          27,
          27,
          28,
          28,
          29,
          29,
          29,
          30,
          30,
          30,
          30,
          31,
          31,
          34,
          34,
          34,
          34,
          35,
          35,
          35,
          36,
          37,
          40,
          41,
          43,
          43,
          44,
          45,
          46,
          48,
          49,
          49,
          53,
          66
         ]
        }
       ],
       "layout": {
        "height": 1200,
        "template": {
         "data": {
          "bar": [
           {
            "error_x": {
             "color": "#2a3f5f"
            },
            "error_y": {
             "color": "#2a3f5f"
            },
            "marker": {
             "line": {
              "color": "#E5ECF6",
              "width": 0.5
             }
            },
            "type": "bar"
           }
          ],
          "barpolar": [
           {
            "marker": {
             "line": {
              "color": "#E5ECF6",
              "width": 0.5
             }
            },
            "type": "barpolar"
           }
          ],
          "carpet": [
           {
            "aaxis": {
             "endlinecolor": "#2a3f5f",
             "gridcolor": "white",
             "linecolor": "white",
             "minorgridcolor": "white",
             "startlinecolor": "#2a3f5f"
            },
            "baxis": {
             "endlinecolor": "#2a3f5f",
             "gridcolor": "white",
             "linecolor": "white",
             "minorgridcolor": "white",
             "startlinecolor": "#2a3f5f"
            },
            "type": "carpet"
           }
          ],
          "choropleth": [
           {
            "colorbar": {
             "outlinewidth": 0,
             "ticks": ""
            },
            "type": "choropleth"
           }
          ],
          "contour": [
           {
            "colorbar": {
             "outlinewidth": 0,
             "ticks": ""
            },
            "colorscale": [
             [
              0,
              "#0d0887"
             ],
             [
              0.1111111111111111,
              "#46039f"
             ],
             [
              0.2222222222222222,
              "#7201a8"
             ],
             [
              0.3333333333333333,
              "#9c179e"
             ],
             [
              0.4444444444444444,
              "#bd3786"
             ],
             [
              0.5555555555555556,
              "#d8576b"
             ],
             [
              0.6666666666666666,
              "#ed7953"
             ],
             [
              0.7777777777777778,
              "#fb9f3a"
             ],
             [
              0.8888888888888888,
              "#fdca26"
             ],
             [
              1,
              "#f0f921"
             ]
            ],
            "type": "contour"
           }
          ],
          "contourcarpet": [
           {
            "colorbar": {
             "outlinewidth": 0,
             "ticks": ""
            },
            "type": "contourcarpet"
           }
          ],
          "heatmap": [
           {
            "colorbar": {
             "outlinewidth": 0,
             "ticks": ""
            },
            "colorscale": [
             [
              0,
              "#0d0887"
             ],
             [
              0.1111111111111111,
              "#46039f"
             ],
             [
              0.2222222222222222,
              "#7201a8"
             ],
             [
              0.3333333333333333,
              "#9c179e"
             ],
             [
              0.4444444444444444,
              "#bd3786"
             ],
             [
              0.5555555555555556,
              "#d8576b"
             ],
             [
              0.6666666666666666,
              "#ed7953"
             ],
             [
              0.7777777777777778,
              "#fb9f3a"
             ],
             [
              0.8888888888888888,
              "#fdca26"
             ],
             [
              1,
              "#f0f921"
             ]
            ],
            "type": "heatmap"
           }
          ],
          "heatmapgl": [
           {
            "colorbar": {
             "outlinewidth": 0,
             "ticks": ""
            },
            "colorscale": [
             [
              0,
              "#0d0887"
             ],
             [
              0.1111111111111111,
              "#46039f"
             ],
             [
              0.2222222222222222,
              "#7201a8"
             ],
             [
              0.3333333333333333,
              "#9c179e"
             ],
             [
              0.4444444444444444,
              "#bd3786"
             ],
             [
              0.5555555555555556,
              "#d8576b"
             ],
             [
              0.6666666666666666,
              "#ed7953"
             ],
             [
              0.7777777777777778,
              "#fb9f3a"
             ],
             [
              0.8888888888888888,
              "#fdca26"
             ],
             [
              1,
              "#f0f921"
             ]
            ],
            "type": "heatmapgl"
           }
          ],
          "histogram": [
           {
            "marker": {
             "colorbar": {
              "outlinewidth": 0,
              "ticks": ""
             }
            },
            "type": "histogram"
           }
          ],
          "histogram2d": [
           {
            "colorbar": {
             "outlinewidth": 0,
             "ticks": ""
            },
            "colorscale": [
             [
              0,
              "#0d0887"
             ],
             [
              0.1111111111111111,
              "#46039f"
             ],
             [
              0.2222222222222222,
              "#7201a8"
             ],
             [
              0.3333333333333333,
              "#9c179e"
             ],
             [
              0.4444444444444444,
              "#bd3786"
             ],
             [
              0.5555555555555556,
              "#d8576b"
             ],
             [
              0.6666666666666666,
              "#ed7953"
             ],
             [
              0.7777777777777778,
              "#fb9f3a"
             ],
             [
              0.8888888888888888,
              "#fdca26"
             ],
             [
              1,
              "#f0f921"
             ]
            ],
            "type": "histogram2d"
           }
          ],
          "histogram2dcontour": [
           {
            "colorbar": {
             "outlinewidth": 0,
             "ticks": ""
            },
            "colorscale": [
             [
              0,
              "#0d0887"
             ],
             [
              0.1111111111111111,
              "#46039f"
             ],
             [
              0.2222222222222222,
              "#7201a8"
             ],
             [
              0.3333333333333333,
              "#9c179e"
             ],
             [
              0.4444444444444444,
              "#bd3786"
             ],
             [
              0.5555555555555556,
              "#d8576b"
             ],
             [
              0.6666666666666666,
              "#ed7953"
             ],
             [
              0.7777777777777778,
              "#fb9f3a"
             ],
             [
              0.8888888888888888,
              "#fdca26"
             ],
             [
              1,
              "#f0f921"
             ]
            ],
            "type": "histogram2dcontour"
           }
          ],
          "mesh3d": [
           {
            "colorbar": {
             "outlinewidth": 0,
             "ticks": ""
            },
            "type": "mesh3d"
           }
          ],
          "parcoords": [
           {
            "line": {
             "colorbar": {
              "outlinewidth": 0,
              "ticks": ""
             }
            },
            "type": "parcoords"
           }
          ],
          "pie": [
           {
            "automargin": true,
            "type": "pie"
           }
          ],
          "scatter": [
           {
            "marker": {
             "colorbar": {
              "outlinewidth": 0,
              "ticks": ""
             }
            },
            "type": "scatter"
           }
          ],
          "scatter3d": [
           {
            "line": {
             "colorbar": {
              "outlinewidth": 0,
              "ticks": ""
             }
            },
            "marker": {
             "colorbar": {
              "outlinewidth": 0,
              "ticks": ""
             }
            },
            "type": "scatter3d"
           }
          ],
          "scattercarpet": [
           {
            "marker": {
             "colorbar": {
              "outlinewidth": 0,
              "ticks": ""
             }
            },
            "type": "scattercarpet"
           }
          ],
          "scattergeo": [
           {
            "marker": {
             "colorbar": {
              "outlinewidth": 0,
              "ticks": ""
             }
            },
            "type": "scattergeo"
           }
          ],
          "scattergl": [
           {
            "marker": {
             "colorbar": {
              "outlinewidth": 0,
              "ticks": ""
             }
            },
            "type": "scattergl"
           }
          ],
          "scattermapbox": [
           {
            "marker": {
             "colorbar": {
              "outlinewidth": 0,
              "ticks": ""
             }
            },
            "type": "scattermapbox"
           }
          ],
          "scatterpolar": [
           {
            "marker": {
             "colorbar": {
              "outlinewidth": 0,
              "ticks": ""
             }
            },
            "type": "scatterpolar"
           }
          ],
          "scatterpolargl": [
           {
            "marker": {
             "colorbar": {
              "outlinewidth": 0,
              "ticks": ""
             }
            },
            "type": "scatterpolargl"
           }
          ],
          "scatterternary": [
           {
            "marker": {
             "colorbar": {
              "outlinewidth": 0,
              "ticks": ""
             }
            },
            "type": "scatterternary"
           }
          ],
          "surface": [
           {
            "colorbar": {
             "outlinewidth": 0,
             "ticks": ""
            },
            "colorscale": [
             [
              0,
              "#0d0887"
             ],
             [
              0.1111111111111111,
              "#46039f"
             ],
             [
              0.2222222222222222,
              "#7201a8"
             ],
             [
              0.3333333333333333,
              "#9c179e"
             ],
             [
              0.4444444444444444,
              "#bd3786"
             ],
             [
              0.5555555555555556,
              "#d8576b"
             ],
             [
              0.6666666666666666,
              "#ed7953"
             ],
             [
              0.7777777777777778,
              "#fb9f3a"
             ],
             [
              0.8888888888888888,
              "#fdca26"
             ],
             [
              1,
              "#f0f921"
             ]
            ],
            "type": "surface"
           }
          ],
          "table": [
           {
            "cells": {
             "fill": {
              "color": "#EBF0F8"
             },
             "line": {
              "color": "white"
             }
            },
            "header": {
             "fill": {
              "color": "#C8D4E3"
             },
             "line": {
              "color": "white"
             }
            },
            "type": "table"
           }
          ]
         },
         "layout": {
          "annotationdefaults": {
           "arrowcolor": "#2a3f5f",
           "arrowhead": 0,
           "arrowwidth": 1
          },
          "coloraxis": {
           "colorbar": {
            "outlinewidth": 0,
            "ticks": ""
           }
          },
          "colorscale": {
           "diverging": [
            [
             0,
             "#8e0152"
            ],
            [
             0.1,
             "#c51b7d"
            ],
            [
             0.2,
             "#de77ae"
            ],
            [
             0.3,
             "#f1b6da"
            ],
            [
             0.4,
             "#fde0ef"
            ],
            [
             0.5,
             "#f7f7f7"
            ],
            [
             0.6,
             "#e6f5d0"
            ],
            [
             0.7,
             "#b8e186"
            ],
            [
             0.8,
             "#7fbc41"
            ],
            [
             0.9,
             "#4d9221"
            ],
            [
             1,
             "#276419"
            ]
           ],
           "sequential": [
            [
             0,
             "#0d0887"
            ],
            [
             0.1111111111111111,
             "#46039f"
            ],
            [
             0.2222222222222222,
             "#7201a8"
            ],
            [
             0.3333333333333333,
             "#9c179e"
            ],
            [
             0.4444444444444444,
             "#bd3786"
            ],
            [
             0.5555555555555556,
             "#d8576b"
            ],
            [
             0.6666666666666666,
             "#ed7953"
            ],
            [
             0.7777777777777778,
             "#fb9f3a"
            ],
            [
             0.8888888888888888,
             "#fdca26"
            ],
            [
             1,
             "#f0f921"
            ]
           ],
           "sequentialminus": [
            [
             0,
             "#0d0887"
            ],
            [
             0.1111111111111111,
             "#46039f"
            ],
            [
             0.2222222222222222,
             "#7201a8"
            ],
            [
             0.3333333333333333,
             "#9c179e"
            ],
            [
             0.4444444444444444,
             "#bd3786"
            ],
            [
             0.5555555555555556,
             "#d8576b"
            ],
            [
             0.6666666666666666,
             "#ed7953"
            ],
            [
             0.7777777777777778,
             "#fb9f3a"
            ],
            [
             0.8888888888888888,
             "#fdca26"
            ],
            [
             1,
             "#f0f921"
            ]
           ]
          },
          "colorway": [
           "#636efa",
           "#EF553B",
           "#00cc96",
           "#ab63fa",
           "#FFA15A",
           "#19d3f3",
           "#FF6692",
           "#B6E880",
           "#FF97FF",
           "#FECB52"
          ],
          "font": {
           "color": "#2a3f5f"
          },
          "geo": {
           "bgcolor": "white",
           "lakecolor": "white",
           "landcolor": "#E5ECF6",
           "showlakes": true,
           "showland": true,
           "subunitcolor": "white"
          },
          "hoverlabel": {
           "align": "left"
          },
          "hovermode": "closest",
          "mapbox": {
           "style": "light"
          },
          "paper_bgcolor": "white",
          "plot_bgcolor": "#E5ECF6",
          "polar": {
           "angularaxis": {
            "gridcolor": "white",
            "linecolor": "white",
            "ticks": ""
           },
           "bgcolor": "#E5ECF6",
           "radialaxis": {
            "gridcolor": "white",
            "linecolor": "white",
            "ticks": ""
           }
          },
          "scene": {
           "xaxis": {
            "backgroundcolor": "#E5ECF6",
            "gridcolor": "white",
            "gridwidth": 2,
            "linecolor": "white",
            "showbackground": true,
            "ticks": "",
            "zerolinecolor": "white"
           },
           "yaxis": {
            "backgroundcolor": "#E5ECF6",
            "gridcolor": "white",
            "gridwidth": 2,
            "linecolor": "white",
            "showbackground": true,
            "ticks": "",
            "zerolinecolor": "white"
           },
           "zaxis": {
            "backgroundcolor": "#E5ECF6",
            "gridcolor": "white",
            "gridwidth": 2,
            "linecolor": "white",
            "showbackground": true,
            "ticks": "",
            "zerolinecolor": "white"
           }
          },
          "shapedefaults": {
           "line": {
            "color": "#2a3f5f"
           }
          },
          "ternary": {
           "aaxis": {
            "gridcolor": "white",
            "linecolor": "white",
            "ticks": ""
           },
           "baxis": {
            "gridcolor": "white",
            "linecolor": "white",
            "ticks": ""
           },
           "bgcolor": "#E5ECF6",
           "caxis": {
            "gridcolor": "white",
            "linecolor": "white",
            "ticks": ""
           }
          },
          "title": {
           "x": 0.05
          },
          "xaxis": {
           "automargin": true,
           "gridcolor": "white",
           "linecolor": "white",
           "ticks": "",
           "title": {
            "standoff": 15
           },
           "zerolinecolor": "white",
           "zerolinewidth": 2
          },
          "yaxis": {
           "automargin": true,
           "gridcolor": "white",
           "linecolor": "white",
           "ticks": "",
           "title": {
            "standoff": 15
           },
           "zerolinecolor": "white",
           "zerolinewidth": 2
          }
         }
        },
        "title": {
         "text": "Count of Absolute 5% Moves in F&O Space"
        },
        "width": 2500,
        "xaxis": {
         "tickangle": -65,
         "title": {
          "text": "TICKER NAME"
         }
        },
        "yaxis": {
         "title": {
          "text": "Number of Times"
         }
        }
       }
      },
      "text/html": [
       "<div>                            <div id=\"bef6ddee-63b7-4ff0-af97-47cd1201950d\" class=\"plotly-graph-div\" style=\"height:1200px; width:2500px;\"></div>            <script type=\"text/javascript\">                require([\"plotly\"], function(Plotly) {                    window.PLOTLYENV=window.PLOTLYENV || {};                                    if (document.getElementById(\"bef6ddee-63b7-4ff0-af97-47cd1201950d\")) {                    Plotly.newPlot(                        \"bef6ddee-63b7-4ff0-af97-47cd1201950d\",                        [{\"name\": \"NNF10\", \"type\": \"bar\", \"x\": [\"DABUR\", \"POWERGRID\", \"MARICO\", \"DRREDDY\", \"COLPAL\", \"ASIANPAINT\", \"NESTLEIND\", \"MRF\", \"SIEMENS\", \"TORNTPOWER\", \"BATAINDIA\", \"PIDILITIND\", \"SUNPHARMA\", \"PAGEIND\", \"HDFCBANK\", \"VOLTAS\", \"ACC\", \"HAVELLS\", \"ULTRACEMCO\", \"IOC\", \"UBL\", \"BERGEPAINT\", \"HINDUNILVR\", \"BAJAJ-AUTO\", \"SBILIFE\", \"HCLTECH\", \"BRITANNIA\", \"BIOCON\", \"PETRONET\", \"RAMCOCEM\", \"LUPIN\", \"ITC\", \"MCDOWELL-N\", \"CADILAHC\", \"ADANIPORTS\", \"MGL\", \"EXIDEIND\", \"DIVISLAB\", \"NTPC\", \"AMBUJACEM\", \"CUMMINSIND\", \"HDFCAMC\", \"TCS\", \"TECHM\", \"ICICIGI\", \"EICHERMOT\", \"GRASIM\", \"TITAN\", \"LALPATHLAB\", \"TORNTPHARM\", \"WIPRO\", \"CIPLA\", \"GODREJCP\", \"SRF\", \"BHARTIARTL\", \"RELIANCE\", \"LT\", \"INFY\", \"SHREECEM\", \"TVSMOTOR\", \"COALINDIA\", \"CONCOR\", \"KOTAKBANK\", \"HEROMOTOCO\", \"HDFCLIFE\", \"AMARAJABAT\", \"AARTIIND\", \"MARUTI\", \"RECLTD\", \"NAUKRI\", \"GMRINFRA\", \"APOLLOHOSP\", \"PFC\", \"ICICIPRULI\", \"JUBLFOOD\", \"BALKRISIND\", \"SUNTV\", \"TATACONSUM\", \"TATACHEM\", \"IGL\", \"MINDTREE\", \"HDFC\", \"ESCORTS\", \"GAIL\", \"APOLLOTYRE\", \"HINDPETRO\", \"SBIN\", \"GLENMARK\", \"ONGC\", \"JSWSTEEL\", \"BPCL\", \"M&M\", \"BOSCHLTD\", \"VEDL\", \"UPL\", \"NMDC\", \"PNB\", \"AUROPHARMA\", \"MFSL\", \"BANKBARODA\", \"INDIGO\", \"ICICIBANK\", \"NATIONALUM\", \"BHARATFORG\", \"TATAPOWER\", \"BAJAJFINSV\", \"MANAPPURAM\", \"BHEL\", \"AXISBANK\", \"TATASTEEL\", \"BEL\", \"ADANIENT\", \"GODREJPROP\", \"MUTHOOTFIN\", \"DLF\", \"CANBK\", \"FEDERALBNK\", \"TATAMOTORS\", \"BAJFINANCE\", \"ASHOKLEY\", \"HINDALCO\", \"LICHSGFIN\", \"IDFCFIRSTB\", \"SAIL\", \"PEL\", \"L&TFH\", \"PVR\", \"MOTHERSUMI\", \"M&MFIN\", \"RBLBANK\", \"CHOLAFIN\", \"JINDALSTEL\", \"ZEEL\", \"BANDHANBNK\", \"SRTRANSFIN\", \"INDUSINDBK\", \"IBULHSGFIN\", \"IDEA\"], \"y\": [6.0, 6.0, 7.0, 7.0, 8.0, 8.0, 8.0, 8.0, 9.0, 9.0, 10.0, 10.0, 10.0, 11.0, 11.0, 11.0, 11.0, 11.0, 11.0, 11.0, 11.0, 11.0, 11.0, 11.0, 12.0, 12.0, 12.0, 12.0, 12.0, 12.0, 12.0, 13.0, 13.0, 13.0, 13.0, 13.0, 13.0, 13.0, 13.0, 14.0, 14.0, 14.0, 14.0, 15.0, 15.0, 15.0, 15.0, 15.0, 15.0, 15.0, 15.0, 15.0, 16.0, 16.0, 16.0, 16.0, 16.0, 16.0, 16.0, 17.0, 17.0, 18.0, 18.0, 18.0, 18.0, 18.0, 18.0, 18.0, 19.0, 19.0, 19.0, 19.0, 19.0, 20.0, 20.0, 20.0, 20.0, 20.0, 20.0, 20.0, 20.0, 21.0, 22.0, 22.0, 23.0, 23.0, 23.0, 24.0, 24.0, 24.0, 24.0, 24.0, 24.0, 25.0, 25.0, 25.0, 25.0, 25.0, 26.0, 26.0, 26.0, 26.0, 26.0, 26.0, 27.0, 27.0, 28.0, 28.0, 29.0, 29.0, 29.0, 30.0, 30.0, 30.0, 30.0, 31.0, 31.0, 34.0, 34.0, 34.0, 34.0, 35.0, 35.0, 35.0, 36.0, 37.0, 40.0, 41.0, 43.0, 43.0, 44.0, 45.0, 46.0, 48.0, 49.0, 49.0, 53.0, 66.0]}],                        {\"height\": 1200, \"template\": {\"data\": {\"bar\": [{\"error_x\": {\"color\": \"#2a3f5f\"}, \"error_y\": {\"color\": \"#2a3f5f\"}, \"marker\": {\"line\": {\"color\": \"#E5ECF6\", \"width\": 0.5}}, \"type\": \"bar\"}], \"barpolar\": [{\"marker\": {\"line\": {\"color\": \"#E5ECF6\", \"width\": 0.5}}, \"type\": \"barpolar\"}], \"carpet\": [{\"aaxis\": {\"endlinecolor\": \"#2a3f5f\", \"gridcolor\": \"white\", \"linecolor\": \"white\", \"minorgridcolor\": \"white\", \"startlinecolor\": \"#2a3f5f\"}, \"baxis\": {\"endlinecolor\": \"#2a3f5f\", \"gridcolor\": \"white\", \"linecolor\": \"white\", \"minorgridcolor\": \"white\", \"startlinecolor\": \"#2a3f5f\"}, \"type\": \"carpet\"}], \"choropleth\": [{\"colorbar\": {\"outlinewidth\": 0, \"ticks\": \"\"}, \"type\": \"choropleth\"}], \"contour\": [{\"colorbar\": {\"outlinewidth\": 0, \"ticks\": \"\"}, \"colorscale\": [[0.0, \"#0d0887\"], [0.1111111111111111, \"#46039f\"], [0.2222222222222222, \"#7201a8\"], [0.3333333333333333, \"#9c179e\"], [0.4444444444444444, \"#bd3786\"], [0.5555555555555556, \"#d8576b\"], [0.6666666666666666, \"#ed7953\"], [0.7777777777777778, \"#fb9f3a\"], [0.8888888888888888, \"#fdca26\"], [1.0, \"#f0f921\"]], \"type\": \"contour\"}], \"contourcarpet\": [{\"colorbar\": {\"outlinewidth\": 0, \"ticks\": \"\"}, \"type\": \"contourcarpet\"}], \"heatmap\": [{\"colorbar\": {\"outlinewidth\": 0, \"ticks\": \"\"}, \"colorscale\": [[0.0, \"#0d0887\"], [0.1111111111111111, \"#46039f\"], [0.2222222222222222, \"#7201a8\"], [0.3333333333333333, \"#9c179e\"], [0.4444444444444444, \"#bd3786\"], [0.5555555555555556, \"#d8576b\"], [0.6666666666666666, \"#ed7953\"], [0.7777777777777778, \"#fb9f3a\"], [0.8888888888888888, \"#fdca26\"], [1.0, \"#f0f921\"]], \"type\": \"heatmap\"}], \"heatmapgl\": [{\"colorbar\": {\"outlinewidth\": 0, \"ticks\": \"\"}, \"colorscale\": [[0.0, \"#0d0887\"], [0.1111111111111111, \"#46039f\"], [0.2222222222222222, \"#7201a8\"], [0.3333333333333333, \"#9c179e\"], [0.4444444444444444, \"#bd3786\"], [0.5555555555555556, \"#d8576b\"], [0.6666666666666666, \"#ed7953\"], [0.7777777777777778, \"#fb9f3a\"], [0.8888888888888888, \"#fdca26\"], [1.0, \"#f0f921\"]], \"type\": \"heatmapgl\"}], \"histogram\": [{\"marker\": {\"colorbar\": {\"outlinewidth\": 0, \"ticks\": \"\"}}, \"type\": \"histogram\"}], \"histogram2d\": [{\"colorbar\": {\"outlinewidth\": 0, \"ticks\": \"\"}, \"colorscale\": [[0.0, \"#0d0887\"], [0.1111111111111111, \"#46039f\"], [0.2222222222222222, \"#7201a8\"], [0.3333333333333333, \"#9c179e\"], [0.4444444444444444, \"#bd3786\"], [0.5555555555555556, \"#d8576b\"], [0.6666666666666666, \"#ed7953\"], [0.7777777777777778, \"#fb9f3a\"], [0.8888888888888888, \"#fdca26\"], [1.0, \"#f0f921\"]], \"type\": \"histogram2d\"}], \"histogram2dcontour\": [{\"colorbar\": {\"outlinewidth\": 0, \"ticks\": \"\"}, \"colorscale\": [[0.0, \"#0d0887\"], [0.1111111111111111, \"#46039f\"], [0.2222222222222222, \"#7201a8\"], [0.3333333333333333, \"#9c179e\"], [0.4444444444444444, \"#bd3786\"], [0.5555555555555556, \"#d8576b\"], [0.6666666666666666, \"#ed7953\"], [0.7777777777777778, \"#fb9f3a\"], [0.8888888888888888, \"#fdca26\"], [1.0, \"#f0f921\"]], \"type\": \"histogram2dcontour\"}], \"mesh3d\": [{\"colorbar\": {\"outlinewidth\": 0, \"ticks\": \"\"}, \"type\": \"mesh3d\"}], \"parcoords\": [{\"line\": {\"colorbar\": {\"outlinewidth\": 0, \"ticks\": \"\"}}, \"type\": \"parcoords\"}], \"pie\": [{\"automargin\": true, \"type\": \"pie\"}], \"scatter\": [{\"marker\": {\"colorbar\": {\"outlinewidth\": 0, \"ticks\": \"\"}}, \"type\": \"scatter\"}], \"scatter3d\": [{\"line\": {\"colorbar\": {\"outlinewidth\": 0, \"ticks\": \"\"}}, \"marker\": {\"colorbar\": {\"outlinewidth\": 0, \"ticks\": \"\"}}, \"type\": \"scatter3d\"}], \"scattercarpet\": [{\"marker\": {\"colorbar\": {\"outlinewidth\": 0, \"ticks\": \"\"}}, \"type\": \"scattercarpet\"}], \"scattergeo\": [{\"marker\": {\"colorbar\": {\"outlinewidth\": 0, \"ticks\": \"\"}}, \"type\": \"scattergeo\"}], \"scattergl\": [{\"marker\": {\"colorbar\": {\"outlinewidth\": 0, \"ticks\": \"\"}}, \"type\": \"scattergl\"}], \"scattermapbox\": [{\"marker\": {\"colorbar\": {\"outlinewidth\": 0, \"ticks\": \"\"}}, \"type\": \"scattermapbox\"}], \"scatterpolar\": [{\"marker\": {\"colorbar\": {\"outlinewidth\": 0, \"ticks\": \"\"}}, \"type\": \"scatterpolar\"}], \"scatterpolargl\": [{\"marker\": {\"colorbar\": {\"outlinewidth\": 0, \"ticks\": \"\"}}, \"type\": \"scatterpolargl\"}], \"scatterternary\": [{\"marker\": {\"colorbar\": {\"outlinewidth\": 0, \"ticks\": \"\"}}, \"type\": \"scatterternary\"}], \"surface\": [{\"colorbar\": {\"outlinewidth\": 0, \"ticks\": \"\"}, \"colorscale\": [[0.0, \"#0d0887\"], [0.1111111111111111, \"#46039f\"], [0.2222222222222222, \"#7201a8\"], [0.3333333333333333, \"#9c179e\"], [0.4444444444444444, \"#bd3786\"], [0.5555555555555556, \"#d8576b\"], [0.6666666666666666, \"#ed7953\"], [0.7777777777777778, \"#fb9f3a\"], [0.8888888888888888, \"#fdca26\"], [1.0, \"#f0f921\"]], \"type\": \"surface\"}], \"table\": [{\"cells\": {\"fill\": {\"color\": \"#EBF0F8\"}, \"line\": {\"color\": \"white\"}}, \"header\": {\"fill\": {\"color\": \"#C8D4E3\"}, \"line\": {\"color\": \"white\"}}, \"type\": \"table\"}]}, \"layout\": {\"annotationdefaults\": {\"arrowcolor\": \"#2a3f5f\", \"arrowhead\": 0, \"arrowwidth\": 1}, \"coloraxis\": {\"colorbar\": {\"outlinewidth\": 0, \"ticks\": \"\"}}, \"colorscale\": {\"diverging\": [[0, \"#8e0152\"], [0.1, \"#c51b7d\"], [0.2, \"#de77ae\"], [0.3, \"#f1b6da\"], [0.4, \"#fde0ef\"], [0.5, \"#f7f7f7\"], [0.6, \"#e6f5d0\"], [0.7, \"#b8e186\"], [0.8, \"#7fbc41\"], [0.9, \"#4d9221\"], [1, \"#276419\"]], \"sequential\": [[0.0, \"#0d0887\"], [0.1111111111111111, \"#46039f\"], [0.2222222222222222, \"#7201a8\"], [0.3333333333333333, \"#9c179e\"], [0.4444444444444444, \"#bd3786\"], [0.5555555555555556, \"#d8576b\"], [0.6666666666666666, \"#ed7953\"], [0.7777777777777778, \"#fb9f3a\"], [0.8888888888888888, \"#fdca26\"], [1.0, \"#f0f921\"]], \"sequentialminus\": [[0.0, \"#0d0887\"], [0.1111111111111111, \"#46039f\"], [0.2222222222222222, \"#7201a8\"], [0.3333333333333333, \"#9c179e\"], [0.4444444444444444, \"#bd3786\"], [0.5555555555555556, \"#d8576b\"], [0.6666666666666666, \"#ed7953\"], [0.7777777777777778, \"#fb9f3a\"], [0.8888888888888888, \"#fdca26\"], [1.0, \"#f0f921\"]]}, \"colorway\": [\"#636efa\", \"#EF553B\", \"#00cc96\", \"#ab63fa\", \"#FFA15A\", \"#19d3f3\", \"#FF6692\", \"#B6E880\", \"#FF97FF\", \"#FECB52\"], \"font\": {\"color\": \"#2a3f5f\"}, \"geo\": {\"bgcolor\": \"white\", \"lakecolor\": \"white\", \"landcolor\": \"#E5ECF6\", \"showlakes\": true, \"showland\": true, \"subunitcolor\": \"white\"}, \"hoverlabel\": {\"align\": \"left\"}, \"hovermode\": \"closest\", \"mapbox\": {\"style\": \"light\"}, \"paper_bgcolor\": \"white\", \"plot_bgcolor\": \"#E5ECF6\", \"polar\": {\"angularaxis\": {\"gridcolor\": \"white\", \"linecolor\": \"white\", \"ticks\": \"\"}, \"bgcolor\": \"#E5ECF6\", \"radialaxis\": {\"gridcolor\": \"white\", \"linecolor\": \"white\", \"ticks\": \"\"}}, \"scene\": {\"xaxis\": {\"backgroundcolor\": \"#E5ECF6\", \"gridcolor\": \"white\", \"gridwidth\": 2, \"linecolor\": \"white\", \"showbackground\": true, \"ticks\": \"\", \"zerolinecolor\": \"white\"}, \"yaxis\": {\"backgroundcolor\": \"#E5ECF6\", \"gridcolor\": \"white\", \"gridwidth\": 2, \"linecolor\": \"white\", \"showbackground\": true, \"ticks\": \"\", \"zerolinecolor\": \"white\"}, \"zaxis\": {\"backgroundcolor\": \"#E5ECF6\", \"gridcolor\": \"white\", \"gridwidth\": 2, \"linecolor\": \"white\", \"showbackground\": true, \"ticks\": \"\", \"zerolinecolor\": \"white\"}}, \"shapedefaults\": {\"line\": {\"color\": \"#2a3f5f\"}}, \"ternary\": {\"aaxis\": {\"gridcolor\": \"white\", \"linecolor\": \"white\", \"ticks\": \"\"}, \"baxis\": {\"gridcolor\": \"white\", \"linecolor\": \"white\", \"ticks\": \"\"}, \"bgcolor\": \"#E5ECF6\", \"caxis\": {\"gridcolor\": \"white\", \"linecolor\": \"white\", \"ticks\": \"\"}}, \"title\": {\"x\": 0.05}, \"xaxis\": {\"automargin\": true, \"gridcolor\": \"white\", \"linecolor\": \"white\", \"ticks\": \"\", \"title\": {\"standoff\": 15}, \"zerolinecolor\": \"white\", \"zerolinewidth\": 2}, \"yaxis\": {\"automargin\": true, \"gridcolor\": \"white\", \"linecolor\": \"white\", \"ticks\": \"\", \"title\": {\"standoff\": 15}, \"zerolinecolor\": \"white\", \"zerolinewidth\": 2}}}, \"title\": {\"text\": \"Count of Absolute 5% Moves in F&O Space\"}, \"width\": 2500, \"xaxis\": {\"tickangle\": -65, \"title\": {\"text\": \"TICKER NAME\"}}, \"yaxis\": {\"title\": {\"text\": \"Number of Times\"}}},                        {\"responsive\": true}                    ).then(function(){\n",
       "                            \n",
       "var gd = document.getElementById('bef6ddee-63b7-4ff0-af97-47cd1201950d');\n",
       "var x = new MutationObserver(function (mutations, observer) {{\n",
       "        var display = window.getComputedStyle(gd).display;\n",
       "        if (!display || display === 'none') {{\n",
       "            console.log([gd, 'removed!']);\n",
       "            Plotly.purge(gd);\n",
       "            observer.disconnect();\n",
       "        }}\n",
       "}});\n",
       "\n",
       "// Listen for the removal of the full notebook cells\n",
       "var notebookContainer = gd.closest('#notebook-container');\n",
       "if (notebookContainer) {{\n",
       "    x.observe(notebookContainer, {childList: true});\n",
       "}}\n",
       "\n",
       "// Listen for the clearing of the current output cell\n",
       "var outputEl = gd.closest('.output');\n",
       "if (outputEl) {{\n",
       "    x.observe(outputEl, {childList: true});\n",
       "}}\n",
       "\n",
       "                        })                };                });            </script>        </div>"
      ]
     },
     "metadata": {},
     "output_type": "display_data"
    }
   ],
   "source": [
    "# LEAST VOLATILE STOCKS\n",
    "fig = go.Figure()\n",
    "fig.add_trace(\n",
    "    go.Bar(y=stocks_values,x=stocks,name='NNF10')\n",
    ")\n",
    "\n",
    "fig.update_layout(height=1200, width=2500, \n",
    "                  title_text=\"Count of Absolute 5% Moves in F&O Space\",\n",
    "                  yaxis_title=\"Number of Times\",\n",
    "                  xaxis_title=\"TICKER NAME\")\n",
    "\n",
    "fig.update_xaxes(tickangle=-65)\n"
   ]
  },
  {
   "cell_type": "code",
   "execution_count": null,
   "metadata": {},
   "outputs": [],
   "source": []
  }
 ],
 "metadata": {
  "kernelspec": {
   "display_name": "Python 3",
   "language": "python",
   "name": "python3"
  },
  "language_info": {
   "codemirror_mode": {
    "name": "ipython",
    "version": 3
   },
   "file_extension": ".py",
   "mimetype": "text/x-python",
   "name": "python",
   "nbconvert_exporter": "python",
   "pygments_lexer": "ipython3",
   "version": "3.8.3"
  }
 },
 "nbformat": 4,
 "nbformat_minor": 4
}
